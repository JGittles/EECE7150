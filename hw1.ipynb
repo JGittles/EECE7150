{
 "cells": [
  {
   "cell_type": "markdown",
   "id": "8c397093",
   "metadata": {},
   "source": [
    " ## Jordan Gittleman - EECE7150 - HW1"
   ]
  },
  {
   "cell_type": "markdown",
   "id": "7dc8bec0",
   "metadata": {},
   "source": [
    "2(b)  Write up a general purpose simulator for the state transition matrix"
   ]
  },
  {
   "cell_type": "markdown",
   "id": "b69c8ab8",
   "metadata": {},
   "source": [
    "My weather sequence simulator consists of two main parts, the sequencer using the given state transition function, and a normalized counter to return the proability distribution of the resulting weather sequence"
   ]
  },
  {
   "cell_type": "code",
   "execution_count": 55,
   "id": "d2074bc6-3098-40d2-8715-1879fc61d98a",
   "metadata": {},
   "outputs": [],
   "source": [
    "import numpy as np\n",
    "from collections import Counter\n",
    "import matplotlib.pyplot as plt"
   ]
  },
  {
   "cell_type": "code",
   "execution_count": 56,
   "id": "cdf6ce10-4f95-45d4-8c65-9602337dd50b",
   "metadata": {},
   "outputs": [],
   "source": [
    "def weather_sim(n,today = False,repeat = False, display = True):\n",
    "    # takes in n number of days in sequence, today input if a starting day is desired,\n",
    "    # a repeat boolean to check the probabilities for a single weather state day,\n",
    "    #  and display boolean to print distribution data\n",
    "    if today == False:\n",
    "        # randomly select a weather state for today if one is not specified\n",
    "        today = np.random.choice([\"sunny\", \"cloudy\", \"rainy\"]) # originally had this as default argument but numpy seems to get stuck when doing that\n",
    "    # using a dict object for efficent grabbing\n",
    "    choices = {\"sunny\":[.8, .2, 0], \"cloudy\":[.4, .4, .2], \"rainy\":[.2, .6, .2]}\n",
    "    count = [today]\n",
    "    for i in range(n-1):\n",
    "        # choose tomorrow's weather with weighted random choice from dictionary corresponding to today\n",
    "        tomorrow =  np.random.choice(list(choices.keys()),p=choices[today])\n",
    "        # store day's in an output list\n",
    "        count.append(tomorrow)\n",
    "        if not(repeat):\n",
    "            today = tomorrow\n",
    "    return normalized_count(count,display), count"
   ]
  },
  {
   "cell_type": "code",
   "execution_count": 57,
   "id": "0e1af885-d973-486f-8b08-565961cdaa6b",
   "metadata": {},
   "outputs": [],
   "source": [
    "def normalized_count(val,display):\n",
    "    # takes in sequence of days and display boolean\n",
    "    # returns normalized count and optional print\n",
    "\n",
    "    # use counter object to tally amount of weather states in a sequence\n",
    "    normCount = Counter(val)\n",
    "    # normalize counter values for probability (must sum to 1)\n",
    "    total = sum(normCount.values())\n",
    "    for key in normCount:\n",
    "        normCount[key] /= total\n",
    "    if display:\n",
    "        print(\"first day is: \" + val[0])\n",
    "        print(\"total runs: \" + str(total))\n",
    "        print(\"sunny: \" +str(normCount['sunny']))\n",
    "        print(\"cloudy: \" +str(normCount['cloudy']))\n",
    "        print(\"rainy: \" +str(normCount['rainy']))\n",
    "        print(\"~~~~~\")\n",
    "    return normCount"
   ]
  },
  {
   "cell_type": "markdown",
   "id": "79e303cd",
   "metadata": {},
   "source": [
    "quickly testing these functions, it becomes clear as the number of itterations increasing corresponds to the stationary distribution given in the solutions found here: https://github.com/pptacher/probabilistic_robotics/blob/master/ch2_recursive_state_estimation/ch2_recursive_state_estimation.pdf"
   ]
  },
  {
   "cell_type": "code",
   "execution_count": 58,
   "id": "d7629607-798a-478c-a4af-2d42ada8819e",
   "metadata": {
    "tags": []
   },
   "outputs": [
    {
     "name": "stdout",
     "output_type": "stream",
     "text": [
      "first day is: cloudy\n",
      "total runs: 10\n",
      "sunny: 0.5\n",
      "cloudy: 0.3\n",
      "rainy: 0.2\n",
      "~~~~~\n",
      "first day is: sunny\n",
      "total runs: 100\n",
      "sunny: 0.69\n",
      "cloudy: 0.25\n",
      "rainy: 0.06\n",
      "~~~~~\n",
      "first day is: rainy\n",
      "total runs: 1000\n",
      "sunny: 0.641\n",
      "cloudy: 0.297\n",
      "rainy: 0.062\n",
      "~~~~~\n",
      "first day is: cloudy\n",
      "total runs: 10000\n",
      "sunny: 0.6349\n",
      "cloudy: 0.2964\n",
      "rainy: 0.0687\n",
      "~~~~~\n",
      "~\n"
     ]
    }
   ],
   "source": [
    "weather_sim(10)\n",
    "weather_sim(100)\n",
    "weather_sim(1000)\n",
    "weather_sim(10000)\n",
    "print(\"~\")\n",
    "\n"
   ]
  },
  {
   "cell_type": "markdown",
   "id": "137cf0dc",
   "metadata": {},
   "source": [
    "(c) Use your simulator to determine the stationary distribution of this Markov chain. In particular I would like everyone to address\n",
    "(i) How you initialize the simulation\n",
    "(ii) How many transitions you consider before taking a result and\n",
    "(iii) How many simulation runs you conducted to arrive at the statistics for the stationary distribution."
   ]
  },
  {
   "cell_type": "markdown",
   "id": "0c60aafb",
   "metadata": {},
   "source": [
    "## Answering the above questions:\n",
    "(i) the simulation is initialized by randomly seelcting a starting day if one is not specified. \\\n",
    "(ii) in this section, I create a weather sequence and graph the probailities of the given weather states along with the given stationary values from literature. Once the states fall within a small consistent range of the given values, I consider that range to be a reasonable convergence estimate \\\n",
    "(iii) while i take 100000 values to arrive at my statistic, This is much larger than is actually needed upon examination of the below graphs, a more conservative number can lie around ~2000 days"
   ]
  },
  {
   "cell_type": "markdown",
   "id": "27ae7c0d",
   "metadata": {},
   "source": [
    "## How this code works\n",
    "\n",
    "Originally, I had re-ran my sequencer with increasing sequence lengths and collected the stationary distributions. This original strategy, however, resulted in an extremely slow run time, since a 10000 day sequence can take almost 3 second to compute and return a value, this technique is incredibly slow if I want to find high resolution data. \\\n",
    " (which I do :D)"
   ]
  },
  {
   "cell_type": "markdown",
   "id": "bce10497",
   "metadata": {},
   "source": [
    "To optimize graphing for a large sequence, I computer one 10000 day sequence and seperately calculated the stationary distribution from an expanding window of days, this allowed me to find and graph convergence without re-sequencing every time."
   ]
  },
  {
   "cell_type": "code",
   "execution_count": 59,
   "id": "8be8d70e-c0dc-4f30-9ad3-c3e01a4973fd",
   "metadata": {},
   "outputs": [],
   "source": [
    "weatherData = {\"sunny\":[], \"cloudy\":[], \"rainy\":[]}\n",
    "window = {\"sunny\":[], \"cloudy\":[], \"rainy\":[]}\n",
    "# calculate a single 10000 day weather sequence\n",
    "[norm,weather] = weather_sim(10000, display = False)\n",
    "\n",
    "# incrementally increase a window size to grab stationary distribution one and store values \n",
    "# in a dict of lists\n",
    "for i in range(1,10000,1):\n",
    "    window = normalized_count(weather[0:i],display = False)\n",
    "    for key in weatherData.keys():\n",
    "        weatherData[key].append(window[key])\n",
    "    \n",
    "    "
   ]
  },
  {
   "cell_type": "code",
   "execution_count": 60,
   "id": "c5202ecd-5466-4f1d-b804-acc41f749d17",
   "metadata": {},
   "outputs": [],
   "source": [
    "# stationary distribution from literature\n",
    "stationary = {\"sunny\":9/14,\"cloudy\":2/7,\"rainy\":1/14}"
   ]
  },
  {
   "cell_type": "code",
   "execution_count": 61,
   "id": "65b35836-15f0-4f3e-9de2-179f578b0705",
   "metadata": {},
   "outputs": [
    {
     "data": {
      "image/png": "[encoded data removed]",
      "text/plain": [
       "<Figure size 432x288 with 1 Axes>"
      ]
     },
     "metadata": {
      "needs_background": "light"
     },
     "output_type": "display_data"
    }
   ],
   "source": [
    "# plotting the weather data alongside values from literature\n",
    "for key in weatherData.keys():\n",
    "    plt.plot(weatherData[key])\n",
    "for key in stationary.keys():\n",
    "    plt.axhline(stationary[key])\n",
    "plt.title(\"Stationary Distributions compared to Literature\")\n",
    "plt.xlabel(\"length of weather sequence [days]\")\n",
    "plt.ylabel(\"probability\")\n",
    "plt.legend(weatherData.keys())\n",
    "plt.show()"
   ]
  },
  {
   "cell_type": "code",
   "execution_count": 62,
   "id": "9efa74c2-454a-4235-a8a7-e11a3a0249d6",
   "metadata": {},
   "outputs": [
    {
     "data": {
      "image/png": "[encoded data removed]",
      "text/plain": [
       "<Figure size 432x288 with 1 Axes>"
      ]
     },
     "metadata": {
      "needs_background": "light"
     },
     "output_type": "display_data"
    }
   ],
   "source": [
    "# Plotting again but as a difference from the literature values for fun\n",
    "for key in weatherData.keys():\n",
    "    plt.plot(abs(np.array(weatherData[key])-stationary[key]))\n",
    "plt.legend(weatherData.keys())\n",
    "plt.title(\"Stationary Distributions comapred to Literature\")\n",
    "plt.xlabel(\"length of weather sequence [days]\")\n",
    "plt.ylabel(\"difference [experimental/literature probabilities]\")\n",
    "plt.show()"
   ]
  },
  {
   "cell_type": "markdown",
   "id": "97b21dbf",
   "metadata": {},
   "source": [
    "(d) The solution is derived via a closed analytical form. Can you do the diagonalization of the state matrix A with python to come up with the same result."
   ]
  },
  {
   "cell_type": "markdown",
   "id": "3f134eeb",
   "metadata": {},
   "source": [
    "## Solution\n",
    "\n",
    "to get the steady state values of our stochastic row matrix A, we can leverage the condition that the steady state matrix = stochastic matrix * steady state matrix"
   ]
  },
  {
   "cell_type": "markdown",
   "id": "ae32c163",
   "metadata": {},
   "source": [
    "This setup mirrors that of how eigenvectors/values work in that:\n",
    "eigenvalue*eigenvector = matrix * eigenvector, this relationship works assuming the matrix is grouped by columns and the eigenvalue used is = 1, thus preserving the relationship that the steady state matrix must not be changed by left muliplying our stochastic"
   ]
  },
  {
   "cell_type": "markdown",
   "id": "b736be14",
   "metadata": {},
   "source": [
    "thus, we can transpose our stochastic matrix, find the egeinverctors/values, get the corresponding vector for the eigenvalue = 1, and normalize it to get our stationary distribution"
   ]
  },
  {
   "cell_type": "code",
   "execution_count": 63,
   "id": "98ee358d-a1ed-407f-8603-da163c155d60",
   "metadata": {},
   "outputs": [
    {
     "name": "stdout",
     "output_type": "stream",
     "text": [
      "stationary distribution:\n",
      "[[0.64285714]\n",
      " [0.28571429]\n",
      " [0.07142857]]\n",
      "\n",
      "diagonalized stationary distribution:\n",
      "[[0.64285714 0.         0.        ]\n",
      " [0.         0.28571429 0.        ]\n",
      " [0.         0.         0.07142857]]\n",
      "\n",
      "given stationary distribution from literature:\n",
      "{'sunny': 0.6428571428571429, 'cloudy': 0.2857142857142857, 'rainy': 0.07142857142857142}\n",
      "\n",
      "stationary distribution from experimentation:\n",
      "Counter({'sunny': 0.6412, 'cloudy': 0.2862, 'rainy': 0.0726})\n"
     ]
    }
   ],
   "source": [
    "# taking state matrix a from the problem statement\n",
    "a = np.array([[.8, .2, 0], [.4, .4, .2], [.2, .6, .2]])\n",
    "# transposing...\n",
    "A = a.transpose()\n",
    "\n",
    "# egeinvector column matrix, these can both be found easily with numpy...\n",
    "\n",
    "vals, vects = np.linalg.eig(A) # outputs a tuple with pos 0 = values, and 1 = vectors\n",
    "\n",
    "# pull out index of eigenvalue close to 1\n",
    "\n",
    "value = np.isclose(vals,1)\n",
    "\n",
    "# grab the corresponding eigenvector\n",
    "\n",
    "distrib = vects[:,value]\n",
    "\n",
    "# normalize so total probability = 1\n",
    "\n",
    "distrib =  distrib/ sum(distrib)\n",
    "\n",
    "print(\"stationary distribution:\\n\"+str(distrib)+'\\n')\n",
    "\n",
    "# diagonalize for fun and becuase the prompt asked\n",
    "\n",
    "print(\"diagonalized stationary distribution:\\n\"+str(distrib*np.eye(3))+'\\n')\n",
    "\n",
    "print(\"given stationary distribution from literature:\\n\"+str(stationary)+'\\n')\n",
    "\n",
    "# this also matches reasonably with the experimentally found distribution from earlier...\n",
    "\n",
    "print(\"stationary distribution from experimentation:\\n\"+str(norm))\n"
   ]
  },
  {
   "cell_type": "code",
   "execution_count": null,
   "metadata": {},
   "outputs": [],
   "source": []
  }
 ],
 "metadata": {
  "kernelspec": {
   "display_name": "Python 3",
   "language": "python",
   "name": "python3"
  },
  "language_info": {
   "codemirror_mode": {
    "name": "ipython",
    "version": 3
   },
   "file_extension": ".py",
   "mimetype": "text/x-python",
   "name": "python",
   "nbconvert_exporter": "python",
   "pygments_lexer": "ipython3",
   "version": "3.9.7"
  }
 },
 "nbformat": 4,
 "nbformat_minor": 5
}
