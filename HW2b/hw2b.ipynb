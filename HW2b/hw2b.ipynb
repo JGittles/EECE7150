{
 "cells": [
  {
   "cell_type": "markdown",
   "metadata": {},
   "source": [
    "### HW2b by Jordan Gitleman"
   ]
  },
  {
   "cell_type": "markdown",
   "metadata": {},
   "source": [
    "We can continue the previous project as we explained in class by using a feature detector instead of manually picking the points. \n",
    "\n",
    "1.\tUse a Harris corner or a SIFT feature detector and then match those points using the brute force matcher. How many points would you pick? \\\n",
    "(a)\tUse SVD to compute a homography on the overconstrained linear equations that the feature points imply. Remake the mosaic. \\\n",
    "(b)\tNow use the cv2.homography with Ransac on the src and dst points after you match the feature points and remake the mosaic. \n"
   ]
  },
  {
   "cell_type": "markdown",
   "metadata": {},
   "source": []
  }
 ],
 "metadata": {
  "language_info": {
   "name": "python"
  },
  "orig_nbformat": 4
 },
 "nbformat": 4,
 "nbformat_minor": 2
}
