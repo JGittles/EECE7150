{
 "cells": [
  {
   "cell_type": "code",
   "execution_count": null,
   "metadata": {},
   "outputs": [],
   "source": [
    "import os\n",
    "import cv2\n",
    "import matplotlib\n",
    "matplotlib.use('TkAgg')\n",
    "import matplotlib.pyplot as plt\n",
    "import numpy as np"
   ]
  },
  {
   "cell_type": "code",
   "execution_count": null,
   "metadata": {},
   "outputs": [],
   "source": [
    "def pointLoad(imgpath,pts):\n",
    "    if os.path.exists(imgpath):\n",
    "        img = cv2.imread(imgpath)\n",
    "        plt.imshow(img)\n",
    "        ptMatrix = plt.ginput(pts)\n",
    "        # plt.close()\n",
    "        return img, np.array(ptMatrix).astype(int)\n",
    "        \n",
    "\n",
    "    else:\n",
    "        print(\"Invalid image path\")\n",
    "        return"
   ]
  },
  {
   "cell_type": "code",
   "execution_count": null,
   "metadata": {},
   "outputs": [],
   "source": [
    "def getH(dest, src):\n",
    "    p = np.array([0,0,0,0,0,0,0,0,1])\n",
    "    # if len(dest) < 5 and len(src) < 5:\n",
    "        \n",
    "\n",
    "    for i in range(len(dest)):\n",
    "        pi = np.array([[-src[i][0],-src[i][1],-1,0,0,0,src[i][0]*dest[i][0],src[i][1]*dest[i][0],dest[i][0]],\n",
    "        [0,0,0,-src[i][0],-src[i][1],-1,src[i][0]*dest[i][1],src[i][1]*dest[i][1],dest[i][1]]])\n",
    "        p = np.vstack((pi,p))\n",
    "\n",
    "  \n",
    "    x = np.zeros((len(dest)*2,1))\n",
    "    x = np.vstack((x,np.array([1])))\n",
    "    H, residuals, rank, s = np.linalg.lstsq(p,x)\n",
    "    H = H.reshape((3,3))\n",
    "    \n",
    "\n",
    "    \n",
    "    return H\n",
    "        \n"
   ]
  },
  {
   "cell_type": "code",
   "execution_count": 27,
   "metadata": {},
   "outputs": [],
   "source": [
    "def pano(image_paths):\n",
    "    imgs = []\n",
    "    imgs_gray = []\n",
    "    orbvals={\"keypts\":[],\"descrpt\":[]}\n",
    "    orb = cv2.ORB_create()\n",
    "    # sift = cv2.xfeatures2d.SIFT_create(nfeatures=200)\n",
    "    for i in range(len(image_paths)):\n",
    "        imgs.append(cv2.imread(image_paths[i]))\n",
    "        imgs[i]=cv2.resize(imgs[i],(0,0),fx=0.4,fy=0.4)\n",
    "        imgs_gray.append(cv2.cvtColor(imgs[i],cv2.COLOR_BGR2GRAY))\n",
    "        keypt, desc = orb.detectAndCompute(imgs_gray[i],None)\n",
    "        # keypt, desc = sift.detectAndCompute(imgs_gray[i], None)\n",
    "        orbvals[\"keypts\"].append(keypt)\n",
    "        orbvals[\"descrpt\"].append(desc)\n",
    "        print((orbvals[\"keypts\"]))\n",
    "        cv2.imshow(\"image\",cv2.drawKeypoints(imgs[i], orbvals[\"keypts\"][i], None, (255, 0, 255)))\n",
    "\n",
    "\n",
    "\n"
   ]
  },
  {
   "cell_type": "code",
   "execution_count": null,
   "metadata": {},
   "outputs": [],
   "source": [
    "img1, img1pts = pointLoad(\"image1.jpg\",8)\n",
    "\n",
    "img2, img2pts = pointLoad(\"image2.jpg\",8)\n",
    "\n",
    "\n"
   ]
  },
  {
   "cell_type": "code",
   "execution_count": null,
   "metadata": {},
   "outputs": [],
   "source": [
    "\n",
    "cv2.imshow(\"image 1\",img1)\n",
    "cv2.imshow(\"image 2\",img2)\n"
   ]
  },
  {
   "cell_type": "code",
   "execution_count": null,
   "metadata": {},
   "outputs": [],
   "source": [
    "H = getH(img1pts,img2pts)\n",
    "im_out = cv2.warpPerspective(img2,H,(img1.shape[1],img1.shape[0]))\n",
    "mask = np.zeros(img1.shape[:2], dtype=\"uint8\")\n",
    "cv2.fillConvexPoly(mask, np.int32([img1pts]),color=255)\n",
    "cv2.fillConvexPoly(img1, np.int32([img1pts]),color=0)\n",
    "masked =cv2.bitwise_and(im_out,im_out,mask=mask)\n",
    "img3 = cv2.add(img1,masked)\n",
    "plt.imshow(img3)\n",
    "\n",
    "plt.show()"
   ]
  },
  {
   "cell_type": "markdown",
   "metadata": {},
   "source": []
  },
  {
   "cell_type": "code",
   "execution_count": 28,
   "metadata": {},
   "outputs": [
    {
     "name": "stdout",
     "output_type": "stream",
     "text": [
      "[(<KeyPoint 0x19f7681b0>, <KeyPoint 0x19f768420>, <KeyPoint 0x19f768630>, <KeyPoint 0x19f768390>, <KeyPoint 0x19f768180>, <KeyPoint 0x19f768330>, <KeyPoint 0x18d6f0720>, <KeyPoint 0x19ecdfe40>, <KeyPoint 0x19ecdff90>, <KeyPoint 0x19eca5480>, <KeyPoint 0x19eca57e0>, <KeyPoint 0x19eca5900>, <KeyPoint 0x19eca50f0>, <KeyPoint 0x19eca55d0>, <KeyPoint 0x19ed6ab70>, <KeyPoint 0x19ed6aed0>, <KeyPoint 0x19ed6af90>, <KeyPoint 0x19ed6ac90>, <KeyPoint 0x19ed6a0f0>, <KeyPoint 0x19ed6a810>, <KeyPoint 0x19ed6aab0>, <KeyPoint 0x19ed6a240>, <KeyPoint 0x19ec9abd0>, <KeyPoint 0x19ec9aa20>, <KeyPoint 0x19ec9a840>, <KeyPoint 0x19ec9aab0>, <KeyPoint 0x19ec9a900>, <KeyPoint 0x19ec9ab10>, <KeyPoint 0x19ec9ab40>, <KeyPoint 0x19f872030>, <KeyPoint 0x19f872060>, <KeyPoint 0x19f872090>, <KeyPoint 0x19f8720c0>, <KeyPoint 0x19f8720f0>, <KeyPoint 0x19f872120>, <KeyPoint 0x19f872150>, <KeyPoint 0x19f872180>, <KeyPoint 0x19f8721b0>, <KeyPoint 0x19f8721e0>, <KeyPoint 0x19f872210>, <KeyPoint 0x19f872240>, <KeyPoint 0x19f872270>, <KeyPoint 0x19f8722a0>, <KeyPoint 0x19f8722d0>, <KeyPoint 0x19f872300>, <KeyPoint 0x19f872330>, <KeyPoint 0x19f872360>, <KeyPoint 0x19f872390>, <KeyPoint 0x19f8723c0>, <KeyPoint 0x19f8723f0>, <KeyPoint 0x19f872420>, <KeyPoint 0x19f872450>, <KeyPoint 0x19f872480>, <KeyPoint 0x19f8724b0>, <KeyPoint 0x19f8724e0>, <KeyPoint 0x19f872510>, <KeyPoint 0x19f872540>, <KeyPoint 0x19f872570>, <KeyPoint 0x19f8725a0>, <KeyPoint 0x19f8725d0>, <KeyPoint 0x19f872600>, <KeyPoint 0x19f872630>, <KeyPoint 0x19f872660>, <KeyPoint 0x19f872690>, <KeyPoint 0x19f8726c0>, <KeyPoint 0x19f8726f0>, <KeyPoint 0x19f872720>, <KeyPoint 0x19f872750>, <KeyPoint 0x19f872780>, <KeyPoint 0x19f8727b0>, <KeyPoint 0x19f8727e0>, <KeyPoint 0x19f872810>, <KeyPoint 0x19f872840>, <KeyPoint 0x19f872870>, <KeyPoint 0x19f8728a0>, <KeyPoint 0x19f8728d0>, <KeyPoint 0x19f872900>, <KeyPoint 0x19f872930>, <KeyPoint 0x19f872960>, <KeyPoint 0x19f872990>, <KeyPoint 0x19f8729c0>, <KeyPoint 0x19f8729f0>, <KeyPoint 0x19f872a20>, <KeyPoint 0x19f872a50>, <KeyPoint 0x19f872a80>, <KeyPoint 0x19f872ab0>, <KeyPoint 0x19f872ae0>, <KeyPoint 0x19f872b10>, <KeyPoint 0x19f872b40>, <KeyPoint 0x19f872b70>, <KeyPoint 0x19f872ba0>, <KeyPoint 0x19f872bd0>, <KeyPoint 0x19f872c00>, <KeyPoint 0x19f872c30>, <KeyPoint 0x19f872c60>, <KeyPoint 0x19f872c90>, <KeyPoint 0x19f872cc0>, <KeyPoint 0x19f872cf0>, <KeyPoint 0x19f872d20>, <KeyPoint 0x19f872d50>, <KeyPoint 0x19f872d80>, <KeyPoint 0x19f872db0>, <KeyPoint 0x19f872de0>, <KeyPoint 0x19f872e10>, <KeyPoint 0x19f872e40>, <KeyPoint 0x19f872e70>, <KeyPoint 0x19f872ea0>, <KeyPoint 0x19f872ed0>, <KeyPoint 0x19f872f00>, <KeyPoint 0x19f872f30>, <KeyPoint 0x19f872f60>, <KeyPoint 0x19f872f90>, <KeyPoint 0x19f872fc0>, <KeyPoint 0x19f876ea0>, <KeyPoint 0x19f876030>, <KeyPoint 0x19f876060>, <KeyPoint 0x19f876090>, <KeyPoint 0x19f876180>, <KeyPoint 0x19f8760c0>, <KeyPoint 0x19f8760f0>, <KeyPoint 0x19f876150>, <KeyPoint 0x19f876120>, <KeyPoint 0x19f8761b0>, <KeyPoint 0x19f8761e0>, <KeyPoint 0x19f8762d0>, <KeyPoint 0x19f876210>, <KeyPoint 0x19f876240>, <KeyPoint 0x19f8762a0>, <KeyPoint 0x19f876270>, <KeyPoint 0x19f876300>, <KeyPoint 0x19f876330>, <KeyPoint 0x19f876390>, <KeyPoint 0x19f8763f0>, <KeyPoint 0x19f8763c0>, <KeyPoint 0x19f876360>, <KeyPoint 0x19f876420>, <KeyPoint 0x19f876450>, <KeyPoint 0x19f8764e0>, <KeyPoint 0x19f876510>, <KeyPoint 0x19f8769c0>, <KeyPoint 0x19f876a20>, <KeyPoint 0x19f8769f0>, <KeyPoint 0x19f876cc0>, <KeyPoint 0x19f876d80>, <KeyPoint 0x19f876cf0>, <KeyPoint 0x19f876d50>, <KeyPoint 0x19f876d20>, <KeyPoint 0x19f876db0>, <KeyPoint 0x19f876de0>, <KeyPoint 0x19f876e10>, <KeyPoint 0x19f876e40>, <KeyPoint 0x19f876e70>, <KeyPoint 0x19f876540>, <KeyPoint 0x19f876990>, <KeyPoint 0x19f876480>, <KeyPoint 0x19f8764b0>, <KeyPoint 0x19f876600>, <KeyPoint 0x19f876630>, <KeyPoint 0x19f876660>, <KeyPoint 0x19f876c90>, <KeyPoint 0x19f876c60>, <KeyPoint 0x19f876c30>, <KeyPoint 0x19f876c00>, <KeyPoint 0x19f876bd0>, <KeyPoint 0x19f876ba0>, <KeyPoint 0x19f876b70>, <KeyPoint 0x19f876b40>, <KeyPoint 0x19f876b10>, <KeyPoint 0x19f876ae0>, <KeyPoint 0x19f876ab0>, <KeyPoint 0x19f876a80>, <KeyPoint 0x19f876a50>, <KeyPoint 0x19f876ed0>, <KeyPoint 0x19f876f00>, <KeyPoint 0x19f876f60>, <KeyPoint 0x19f876f90>, <KeyPoint 0x19f876fc0>, <KeyPoint 0x19f876960>, <KeyPoint 0x19f876930>, <KeyPoint 0x19f876900>, <KeyPoint 0x19f8768d0>, <KeyPoint 0x19f8768a0>, <KeyPoint 0x19f876870>, <KeyPoint 0x19f876840>, <KeyPoint 0x19f876810>, <KeyPoint 0x19f8767e0>, <KeyPoint 0x19f8767b0>, <KeyPoint 0x19f876780>, <KeyPoint 0x19f876750>, <KeyPoint 0x19f876720>, <KeyPoint 0x19f8766f0>, <KeyPoint 0x19f8766c0>, <KeyPoint 0x19f876690>, <KeyPoint 0x19f8765d0>, <KeyPoint 0x19f8765a0>, <KeyPoint 0x19f876570>, <KeyPoint 0x19f876f30>, <KeyPoint 0x19f878030>, <KeyPoint 0x19f878060>, <KeyPoint 0x19f878090>, <KeyPoint 0x19f8780c0>, <KeyPoint 0x19f8780f0>, <KeyPoint 0x19f878120>, <KeyPoint 0x19f878150>, <KeyPoint 0x19f878180>, <KeyPoint 0x19f8781b0>, <KeyPoint 0x19f8781e0>, <KeyPoint 0x19f878210>, <KeyPoint 0x19f878240>, <KeyPoint 0x19f878270>, <KeyPoint 0x19f8782a0>, <KeyPoint 0x19f8782d0>, <KeyPoint 0x19f878300>, <KeyPoint 0x19f878330>, <KeyPoint 0x19f878360>, <KeyPoint 0x19f878390>, <KeyPoint 0x19f8783c0>, <KeyPoint 0x19f8783f0>, <KeyPoint 0x19f878420>, <KeyPoint 0x19f878450>, <KeyPoint 0x19f878480>, <KeyPoint 0x19f8784b0>, <KeyPoint 0x19f8784e0>, <KeyPoint 0x19f878510>, <KeyPoint 0x19f878540>, <KeyPoint 0x19f878570>, <KeyPoint 0x19f8785a0>, <KeyPoint 0x19f8785d0>, <KeyPoint 0x19f878600>, <KeyPoint 0x19f878630>, <KeyPoint 0x19f878660>, <KeyPoint 0x19f878690>, <KeyPoint 0x19f8786c0>, <KeyPoint 0x19f8786f0>, <KeyPoint 0x19f878720>, <KeyPoint 0x19f878750>, <KeyPoint 0x19f878780>, <KeyPoint 0x19f8787b0>, <KeyPoint 0x19f8787e0>, <KeyPoint 0x19f878810>, <KeyPoint 0x19f878840>, <KeyPoint 0x19f878870>, <KeyPoint 0x19f8788a0>, <KeyPoint 0x19f8788d0>, <KeyPoint 0x19f878900>, <KeyPoint 0x19f878930>, <KeyPoint 0x19f878960>, <KeyPoint 0x19f878990>, <KeyPoint 0x19f8789c0>, <KeyPoint 0x19f8789f0>, <KeyPoint 0x19f878a20>, <KeyPoint 0x19f878a50>, <KeyPoint 0x19f878a80>, <KeyPoint 0x19f878ab0>, <KeyPoint 0x19f878ae0>, <KeyPoint 0x19f878b10>, <KeyPoint 0x19f878b40>, <KeyPoint 0x19f878b70>, <KeyPoint 0x19f878ba0>, <KeyPoint 0x19f878bd0>, <KeyPoint 0x19f878c00>, <KeyPoint 0x19f878c30>, <KeyPoint 0x19f878c60>, <KeyPoint 0x19f878c90>, <KeyPoint 0x19f878cc0>, <KeyPoint 0x19f878cf0>, <KeyPoint 0x19f878d20>, <KeyPoint 0x19f878d50>, <KeyPoint 0x19f878d80>, <KeyPoint 0x19f878db0>, <KeyPoint 0x19f878de0>, <KeyPoint 0x19f878e10>, <KeyPoint 0x19f878e40>, <KeyPoint 0x19f878e70>, <KeyPoint 0x19f878ea0>, <KeyPoint 0x19f878ed0>, <KeyPoint 0x19f878f00>, <KeyPoint 0x19f878f30>, <KeyPoint 0x19f878f60>, <KeyPoint 0x19f878f90>, <KeyPoint 0x19f878fc0>, <KeyPoint 0x19f877030>, <KeyPoint 0x19f877060>, <KeyPoint 0x19f877090>, <KeyPoint 0x19f8770c0>, <KeyPoint 0x19f8770f0>, <KeyPoint 0x19f877120>, <KeyPoint 0x19f877150>, <KeyPoint 0x19f877180>, <KeyPoint 0x19f8771b0>, <KeyPoint 0x19f8771e0>, <KeyPoint 0x19f877210>, <KeyPoint 0x19f877240>, <KeyPoint 0x19f877270>, <KeyPoint 0x19f8772a0>, <KeyPoint 0x19f8772d0>, <KeyPoint 0x19f877300>, <KeyPoint 0x19f877330>, <KeyPoint 0x19f877360>, <KeyPoint 0x19f877390>, <KeyPoint 0x19f8773c0>, <KeyPoint 0x19f8773f0>, <KeyPoint 0x19f877420>, <KeyPoint 0x19f877450>, <KeyPoint 0x19f877480>, <KeyPoint 0x19f8774b0>, <KeyPoint 0x19f8774e0>, <KeyPoint 0x19f877510>, <KeyPoint 0x19f877540>, <KeyPoint 0x19f877570>, <KeyPoint 0x19f8775a0>, <KeyPoint 0x19f8775d0>, <KeyPoint 0x19f877600>, <KeyPoint 0x19f877630>, <KeyPoint 0x19f877660>, <KeyPoint 0x19f877690>, <KeyPoint 0x19f8776c0>, <KeyPoint 0x19f8776f0>, <KeyPoint 0x19f877720>, <KeyPoint 0x19f877750>, <KeyPoint 0x19f877780>, <KeyPoint 0x19f8777b0>, <KeyPoint 0x19f8777e0>, <KeyPoint 0x19f877810>, <KeyPoint 0x19f877840>, <KeyPoint 0x19f877870>, <KeyPoint 0x19f8778a0>, <KeyPoint 0x19f8778d0>, <KeyPoint 0x19f877900>, <KeyPoint 0x19f877930>, <KeyPoint 0x19f877960>, <KeyPoint 0x19f877990>, <KeyPoint 0x19f8779c0>, <KeyPoint 0x19f8779f0>, <KeyPoint 0x19f877a20>, <KeyPoint 0x19f877a50>, <KeyPoint 0x19f877a80>, <KeyPoint 0x19f877ab0>, <KeyPoint 0x19f877ae0>, <KeyPoint 0x19f877b10>, <KeyPoint 0x19f877b40>, <KeyPoint 0x19f877b70>, <KeyPoint 0x19f877ba0>, <KeyPoint 0x19f877bd0>, <KeyPoint 0x19f877c00>, <KeyPoint 0x19f877c30>, <KeyPoint 0x19f877c60>, <KeyPoint 0x19f877c90>, <KeyPoint 0x19f877cc0>, <KeyPoint 0x19f877cf0>, <KeyPoint 0x19f877d20>, <KeyPoint 0x19f877d50>, <KeyPoint 0x19f877d80>, <KeyPoint 0x19f877db0>, <KeyPoint 0x19f877de0>, <KeyPoint 0x19f877e10>, <KeyPoint 0x19f877e40>, <KeyPoint 0x19f877e70>, <KeyPoint 0x19f877ea0>, <KeyPoint 0x19f877ed0>, <KeyPoint 0x19f877f00>, <KeyPoint 0x19f877f30>, <KeyPoint 0x19f877f60>, <KeyPoint 0x19f877f90>, <KeyPoint 0x19f877fc0>, <KeyPoint 0x19f879030>, <KeyPoint 0x19f879060>, <KeyPoint 0x19f879090>, <KeyPoint 0x19f8790c0>, <KeyPoint 0x19f8790f0>, <KeyPoint 0x19f879120>, <KeyPoint 0x19f879150>, <KeyPoint 0x19f879180>, <KeyPoint 0x19f8791b0>, <KeyPoint 0x19f8791e0>, <KeyPoint 0x19f879210>, <KeyPoint 0x19f879240>, <KeyPoint 0x19f879270>, <KeyPoint 0x19f8792a0>, <KeyPoint 0x19f8792d0>, <KeyPoint 0x19f879300>, <KeyPoint 0x19f879330>, <KeyPoint 0x19f879360>, <KeyPoint 0x19f879390>, <KeyPoint 0x19f8793c0>, <KeyPoint 0x19f8793f0>, <KeyPoint 0x19f879420>, <KeyPoint 0x19f879450>, <KeyPoint 0x19f879480>, <KeyPoint 0x19f8794b0>, <KeyPoint 0x19f8794e0>, <KeyPoint 0x19f879510>, <KeyPoint 0x19f879540>, <KeyPoint 0x19f879570>, <KeyPoint 0x19f8795a0>, <KeyPoint 0x19f8795d0>, <KeyPoint 0x19f879600>, <KeyPoint 0x19f879630>, <KeyPoint 0x19f879660>, <KeyPoint 0x19f879690>, <KeyPoint 0x19f8796c0>, <KeyPoint 0x19f8796f0>, <KeyPoint 0x19f879720>, <KeyPoint 0x19f879750>, <KeyPoint 0x19f879780>, <KeyPoint 0x19f8797b0>, <KeyPoint 0x19f8797e0>, <KeyPoint 0x19f879810>, <KeyPoint 0x19f879840>, <KeyPoint 0x19f879870>, <KeyPoint 0x19f8798a0>, <KeyPoint 0x19f8798d0>, <KeyPoint 0x19f879900>, <KeyPoint 0x19f879930>, <KeyPoint 0x19f879960>, <KeyPoint 0x19f879990>, <KeyPoint 0x19f8799c0>, <KeyPoint 0x19f8799f0>, <KeyPoint 0x19f879a20>, <KeyPoint 0x19f879a50>, <KeyPoint 0x19f879a80>, <KeyPoint 0x19f879ab0>, <KeyPoint 0x19f879ae0>, <KeyPoint 0x19f879b10>, <KeyPoint 0x19f879b40>, <KeyPoint 0x19f879b70>, <KeyPoint 0x19f879ba0>, <KeyPoint 0x19f879bd0>, <KeyPoint 0x19f879c00>, <KeyPoint 0x19f879c30>, <KeyPoint 0x19f879c60>, <KeyPoint 0x19f879c90>, <KeyPoint 0x19f879cc0>, <KeyPoint 0x19f879cf0>, <KeyPoint 0x19f879d20>, <KeyPoint 0x19f879d50>, <KeyPoint 0x19f879d80>, <KeyPoint 0x19f879db0>, <KeyPoint 0x19f879de0>, <KeyPoint 0x19f879e10>, <KeyPoint 0x19f879e40>, <KeyPoint 0x19f879e70>, <KeyPoint 0x19f879ea0>, <KeyPoint 0x19f879ed0>, <KeyPoint 0x19f879f00>, <KeyPoint 0x19f879f30>, <KeyPoint 0x19f879f60>, <KeyPoint 0x19f879f90>, <KeyPoint 0x19f879fc0>, <KeyPoint 0x19f87a030>, <KeyPoint 0x19f87a060>, <KeyPoint 0x19f87a090>, <KeyPoint 0x19f87a0c0>, <KeyPoint 0x19f87a0f0>, <KeyPoint 0x19f87a120>, <KeyPoint 0x19f87a150>, <KeyPoint 0x19f87a180>, <KeyPoint 0x19f87a1b0>, <KeyPoint 0x19f87a1e0>, <KeyPoint 0x19f87a210>, <KeyPoint 0x19f87a240>, <KeyPoint 0x19f87a270>, <KeyPoint 0x19f87a2a0>, <KeyPoint 0x19f87a2d0>, <KeyPoint 0x19f87a300>, <KeyPoint 0x19f87a330>, <KeyPoint 0x19f87a360>, <KeyPoint 0x19f87a390>, <KeyPoint 0x19f87a3c0>, <KeyPoint 0x19f87a3f0>, <KeyPoint 0x19f87a420>, <KeyPoint 0x19f87a450>, <KeyPoint 0x19f87a480>, <KeyPoint 0x19f87a4b0>, <KeyPoint 0x19f87a4e0>, <KeyPoint 0x19f87a510>, <KeyPoint 0x19f87a540>, <KeyPoint 0x19f87a570>, <KeyPoint 0x19f87a5a0>, <KeyPoint 0x19f87a5d0>, <KeyPoint 0x19f87a600>, <KeyPoint 0x19f87a630>, <KeyPoint 0x19f87a660>, <KeyPoint 0x19f87a690>, <KeyPoint 0x19f87a6c0>, <KeyPoint 0x19f87a6f0>, <KeyPoint 0x19f87a720>, <KeyPoint 0x19f87a750>, <KeyPoint 0x19f87a780>, <KeyPoint 0x19f87a7b0>, <KeyPoint 0x19f87a7e0>, <KeyPoint 0x19f87a810>, <KeyPoint 0x19f87a840>, <KeyPoint 0x19f87a870>, <KeyPoint 0x19f87a8a0>, <KeyPoint 0x19f87a8d0>, <KeyPoint 0x19f87a900>, <KeyPoint 0x19f87a930>, <KeyPoint 0x19f87a960>, <KeyPoint 0x19f87a990>)]\n",
      "[(<KeyPoint 0x19f7681b0>, <KeyPoint 0x19f768420>, <KeyPoint 0x19f768630>, <KeyPoint 0x19f768390>, <KeyPoint 0x19f768180>, <KeyPoint 0x19f768330>, <KeyPoint 0x18d6f0720>, <KeyPoint 0x19ecdfe40>, <KeyPoint 0x19ecdff90>, <KeyPoint 0x19eca5480>, <KeyPoint 0x19eca57e0>, <KeyPoint 0x19eca5900>, <KeyPoint 0x19eca50f0>, <KeyPoint 0x19eca55d0>, <KeyPoint 0x19ed6ab70>, <KeyPoint 0x19ed6aed0>, <KeyPoint 0x19ed6af90>, <KeyPoint 0x19ed6ac90>, <KeyPoint 0x19ed6a0f0>, <KeyPoint 0x19ed6a810>, <KeyPoint 0x19ed6aab0>, <KeyPoint 0x19ed6a240>, <KeyPoint 0x19ec9abd0>, <KeyPoint 0x19ec9aa20>, <KeyPoint 0x19ec9a840>, <KeyPoint 0x19ec9aab0>, <KeyPoint 0x19ec9a900>, <KeyPoint 0x19ec9ab10>, <KeyPoint 0x19ec9ab40>, <KeyPoint 0x19f872030>, <KeyPoint 0x19f872060>, <KeyPoint 0x19f872090>, <KeyPoint 0x19f8720c0>, <KeyPoint 0x19f8720f0>, <KeyPoint 0x19f872120>, <KeyPoint 0x19f872150>, <KeyPoint 0x19f872180>, <KeyPoint 0x19f8721b0>, <KeyPoint 0x19f8721e0>, <KeyPoint 0x19f872210>, <KeyPoint 0x19f872240>, <KeyPoint 0x19f872270>, <KeyPoint 0x19f8722a0>, <KeyPoint 0x19f8722d0>, <KeyPoint 0x19f872300>, <KeyPoint 0x19f872330>, <KeyPoint 0x19f872360>, <KeyPoint 0x19f872390>, <KeyPoint 0x19f8723c0>, <KeyPoint 0x19f8723f0>, <KeyPoint 0x19f872420>, <KeyPoint 0x19f872450>, <KeyPoint 0x19f872480>, <KeyPoint 0x19f8724b0>, <KeyPoint 0x19f8724e0>, <KeyPoint 0x19f872510>, <KeyPoint 0x19f872540>, <KeyPoint 0x19f872570>, <KeyPoint 0x19f8725a0>, <KeyPoint 0x19f8725d0>, <KeyPoint 0x19f872600>, <KeyPoint 0x19f872630>, <KeyPoint 0x19f872660>, <KeyPoint 0x19f872690>, <KeyPoint 0x19f8726c0>, <KeyPoint 0x19f8726f0>, <KeyPoint 0x19f872720>, <KeyPoint 0x19f872750>, <KeyPoint 0x19f872780>, <KeyPoint 0x19f8727b0>, <KeyPoint 0x19f8727e0>, <KeyPoint 0x19f872810>, <KeyPoint 0x19f872840>, <KeyPoint 0x19f872870>, <KeyPoint 0x19f8728a0>, <KeyPoint 0x19f8728d0>, <KeyPoint 0x19f872900>, <KeyPoint 0x19f872930>, <KeyPoint 0x19f872960>, <KeyPoint 0x19f872990>, <KeyPoint 0x19f8729c0>, <KeyPoint 0x19f8729f0>, <KeyPoint 0x19f872a20>, <KeyPoint 0x19f872a50>, <KeyPoint 0x19f872a80>, <KeyPoint 0x19f872ab0>, <KeyPoint 0x19f872ae0>, <KeyPoint 0x19f872b10>, <KeyPoint 0x19f872b40>, <KeyPoint 0x19f872b70>, <KeyPoint 0x19f872ba0>, <KeyPoint 0x19f872bd0>, <KeyPoint 0x19f872c00>, <KeyPoint 0x19f872c30>, <KeyPoint 0x19f872c60>, <KeyPoint 0x19f872c90>, <KeyPoint 0x19f872cc0>, <KeyPoint 0x19f872cf0>, <KeyPoint 0x19f872d20>, <KeyPoint 0x19f872d50>, <KeyPoint 0x19f872d80>, <KeyPoint 0x19f872db0>, <KeyPoint 0x19f872de0>, <KeyPoint 0x19f872e10>, <KeyPoint 0x19f872e40>, <KeyPoint 0x19f872e70>, <KeyPoint 0x19f872ea0>, <KeyPoint 0x19f872ed0>, <KeyPoint 0x19f872f00>, <KeyPoint 0x19f872f30>, <KeyPoint 0x19f872f60>, <KeyPoint 0x19f872f90>, <KeyPoint 0x19f872fc0>, <KeyPoint 0x19f876ea0>, <KeyPoint 0x19f876030>, <KeyPoint 0x19f876060>, <KeyPoint 0x19f876090>, <KeyPoint 0x19f876180>, <KeyPoint 0x19f8760c0>, <KeyPoint 0x19f8760f0>, <KeyPoint 0x19f876150>, <KeyPoint 0x19f876120>, <KeyPoint 0x19f8761b0>, <KeyPoint 0x19f8761e0>, <KeyPoint 0x19f8762d0>, <KeyPoint 0x19f876210>, <KeyPoint 0x19f876240>, <KeyPoint 0x19f8762a0>, <KeyPoint 0x19f876270>, <KeyPoint 0x19f876300>, <KeyPoint 0x19f876330>, <KeyPoint 0x19f876390>, <KeyPoint 0x19f8763f0>, <KeyPoint 0x19f8763c0>, <KeyPoint 0x19f876360>, <KeyPoint 0x19f876420>, <KeyPoint 0x19f876450>, <KeyPoint 0x19f8764e0>, <KeyPoint 0x19f876510>, <KeyPoint 0x19f8769c0>, <KeyPoint 0x19f876a20>, <KeyPoint 0x19f8769f0>, <KeyPoint 0x19f876cc0>, <KeyPoint 0x19f876d80>, <KeyPoint 0x19f876cf0>, <KeyPoint 0x19f876d50>, <KeyPoint 0x19f876d20>, <KeyPoint 0x19f876db0>, <KeyPoint 0x19f876de0>, <KeyPoint 0x19f876e10>, <KeyPoint 0x19f876e40>, <KeyPoint 0x19f876e70>, <KeyPoint 0x19f876540>, <KeyPoint 0x19f876990>, <KeyPoint 0x19f876480>, <KeyPoint 0x19f8764b0>, <KeyPoint 0x19f876600>, <KeyPoint 0x19f876630>, <KeyPoint 0x19f876660>, <KeyPoint 0x19f876c90>, <KeyPoint 0x19f876c60>, <KeyPoint 0x19f876c30>, <KeyPoint 0x19f876c00>, <KeyPoint 0x19f876bd0>, <KeyPoint 0x19f876ba0>, <KeyPoint 0x19f876b70>, <KeyPoint 0x19f876b40>, <KeyPoint 0x19f876b10>, <KeyPoint 0x19f876ae0>, <KeyPoint 0x19f876ab0>, <KeyPoint 0x19f876a80>, <KeyPoint 0x19f876a50>, <KeyPoint 0x19f876ed0>, <KeyPoint 0x19f876f00>, <KeyPoint 0x19f876f60>, <KeyPoint 0x19f876f90>, <KeyPoint 0x19f876fc0>, <KeyPoint 0x19f876960>, <KeyPoint 0x19f876930>, <KeyPoint 0x19f876900>, <KeyPoint 0x19f8768d0>, <KeyPoint 0x19f8768a0>, <KeyPoint 0x19f876870>, <KeyPoint 0x19f876840>, <KeyPoint 0x19f876810>, <KeyPoint 0x19f8767e0>, <KeyPoint 0x19f8767b0>, <KeyPoint 0x19f876780>, <KeyPoint 0x19f876750>, <KeyPoint 0x19f876720>, <KeyPoint 0x19f8766f0>, <KeyPoint 0x19f8766c0>, <KeyPoint 0x19f876690>, <KeyPoint 0x19f8765d0>, <KeyPoint 0x19f8765a0>, <KeyPoint 0x19f876570>, <KeyPoint 0x19f876f30>, <KeyPoint 0x19f878030>, <KeyPoint 0x19f878060>, <KeyPoint 0x19f878090>, <KeyPoint 0x19f8780c0>, <KeyPoint 0x19f8780f0>, <KeyPoint 0x19f878120>, <KeyPoint 0x19f878150>, <KeyPoint 0x19f878180>, <KeyPoint 0x19f8781b0>, <KeyPoint 0x19f8781e0>, <KeyPoint 0x19f878210>, <KeyPoint 0x19f878240>, <KeyPoint 0x19f878270>, <KeyPoint 0x19f8782a0>, <KeyPoint 0x19f8782d0>, <KeyPoint 0x19f878300>, <KeyPoint 0x19f878330>, <KeyPoint 0x19f878360>, <KeyPoint 0x19f878390>, <KeyPoint 0x19f8783c0>, <KeyPoint 0x19f8783f0>, <KeyPoint 0x19f878420>, <KeyPoint 0x19f878450>, <KeyPoint 0x19f878480>, <KeyPoint 0x19f8784b0>, <KeyPoint 0x19f8784e0>, <KeyPoint 0x19f878510>, <KeyPoint 0x19f878540>, <KeyPoint 0x19f878570>, <KeyPoint 0x19f8785a0>, <KeyPoint 0x19f8785d0>, <KeyPoint 0x19f878600>, <KeyPoint 0x19f878630>, <KeyPoint 0x19f878660>, <KeyPoint 0x19f878690>, <KeyPoint 0x19f8786c0>, <KeyPoint 0x19f8786f0>, <KeyPoint 0x19f878720>, <KeyPoint 0x19f878750>, <KeyPoint 0x19f878780>, <KeyPoint 0x19f8787b0>, <KeyPoint 0x19f8787e0>, <KeyPoint 0x19f878810>, <KeyPoint 0x19f878840>, <KeyPoint 0x19f878870>, <KeyPoint 0x19f8788a0>, <KeyPoint 0x19f8788d0>, <KeyPoint 0x19f878900>, <KeyPoint 0x19f878930>, <KeyPoint 0x19f878960>, <KeyPoint 0x19f878990>, <KeyPoint 0x19f8789c0>, <KeyPoint 0x19f8789f0>, <KeyPoint 0x19f878a20>, <KeyPoint 0x19f878a50>, <KeyPoint 0x19f878a80>, <KeyPoint 0x19f878ab0>, <KeyPoint 0x19f878ae0>, <KeyPoint 0x19f878b10>, <KeyPoint 0x19f878b40>, <KeyPoint 0x19f878b70>, <KeyPoint 0x19f878ba0>, <KeyPoint 0x19f878bd0>, <KeyPoint 0x19f878c00>, <KeyPoint 0x19f878c30>, <KeyPoint 0x19f878c60>, <KeyPoint 0x19f878c90>, <KeyPoint 0x19f878cc0>, <KeyPoint 0x19f878cf0>, <KeyPoint 0x19f878d20>, <KeyPoint 0x19f878d50>, <KeyPoint 0x19f878d80>, <KeyPoint 0x19f878db0>, <KeyPoint 0x19f878de0>, <KeyPoint 0x19f878e10>, <KeyPoint 0x19f878e40>, <KeyPoint 0x19f878e70>, <KeyPoint 0x19f878ea0>, <KeyPoint 0x19f878ed0>, <KeyPoint 0x19f878f00>, <KeyPoint 0x19f878f30>, <KeyPoint 0x19f878f60>, <KeyPoint 0x19f878f90>, <KeyPoint 0x19f878fc0>, <KeyPoint 0x19f877030>, <KeyPoint 0x19f877060>, <KeyPoint 0x19f877090>, <KeyPoint 0x19f8770c0>, <KeyPoint 0x19f8770f0>, <KeyPoint 0x19f877120>, <KeyPoint 0x19f877150>, <KeyPoint 0x19f877180>, <KeyPoint 0x19f8771b0>, <KeyPoint 0x19f8771e0>, <KeyPoint 0x19f877210>, <KeyPoint 0x19f877240>, <KeyPoint 0x19f877270>, <KeyPoint 0x19f8772a0>, <KeyPoint 0x19f8772d0>, <KeyPoint 0x19f877300>, <KeyPoint 0x19f877330>, <KeyPoint 0x19f877360>, <KeyPoint 0x19f877390>, <KeyPoint 0x19f8773c0>, <KeyPoint 0x19f8773f0>, <KeyPoint 0x19f877420>, <KeyPoint 0x19f877450>, <KeyPoint 0x19f877480>, <KeyPoint 0x19f8774b0>, <KeyPoint 0x19f8774e0>, <KeyPoint 0x19f877510>, <KeyPoint 0x19f877540>, <KeyPoint 0x19f877570>, <KeyPoint 0x19f8775a0>, <KeyPoint 0x19f8775d0>, <KeyPoint 0x19f877600>, <KeyPoint 0x19f877630>, <KeyPoint 0x19f877660>, <KeyPoint 0x19f877690>, <KeyPoint 0x19f8776c0>, <KeyPoint 0x19f8776f0>, <KeyPoint 0x19f877720>, <KeyPoint 0x19f877750>, <KeyPoint 0x19f877780>, <KeyPoint 0x19f8777b0>, <KeyPoint 0x19f8777e0>, <KeyPoint 0x19f877810>, <KeyPoint 0x19f877840>, <KeyPoint 0x19f877870>, <KeyPoint 0x19f8778a0>, <KeyPoint 0x19f8778d0>, <KeyPoint 0x19f877900>, <KeyPoint 0x19f877930>, <KeyPoint 0x19f877960>, <KeyPoint 0x19f877990>, <KeyPoint 0x19f8779c0>, <KeyPoint 0x19f8779f0>, <KeyPoint 0x19f877a20>, <KeyPoint 0x19f877a50>, <KeyPoint 0x19f877a80>, <KeyPoint 0x19f877ab0>, <KeyPoint 0x19f877ae0>, <KeyPoint 0x19f877b10>, <KeyPoint 0x19f877b40>, <KeyPoint 0x19f877b70>, <KeyPoint 0x19f877ba0>, <KeyPoint 0x19f877bd0>, <KeyPoint 0x19f877c00>, <KeyPoint 0x19f877c30>, <KeyPoint 0x19f877c60>, <KeyPoint 0x19f877c90>, <KeyPoint 0x19f877cc0>, <KeyPoint 0x19f877cf0>, <KeyPoint 0x19f877d20>, <KeyPoint 0x19f877d50>, <KeyPoint 0x19f877d80>, <KeyPoint 0x19f877db0>, <KeyPoint 0x19f877de0>, <KeyPoint 0x19f877e10>, <KeyPoint 0x19f877e40>, <KeyPoint 0x19f877e70>, <KeyPoint 0x19f877ea0>, <KeyPoint 0x19f877ed0>, <KeyPoint 0x19f877f00>, <KeyPoint 0x19f877f30>, <KeyPoint 0x19f877f60>, <KeyPoint 0x19f877f90>, <KeyPoint 0x19f877fc0>, <KeyPoint 0x19f879030>, <KeyPoint 0x19f879060>, <KeyPoint 0x19f879090>, <KeyPoint 0x19f8790c0>, <KeyPoint 0x19f8790f0>, <KeyPoint 0x19f879120>, <KeyPoint 0x19f879150>, <KeyPoint 0x19f879180>, <KeyPoint 0x19f8791b0>, <KeyPoint 0x19f8791e0>, <KeyPoint 0x19f879210>, <KeyPoint 0x19f879240>, <KeyPoint 0x19f879270>, <KeyPoint 0x19f8792a0>, <KeyPoint 0x19f8792d0>, <KeyPoint 0x19f879300>, <KeyPoint 0x19f879330>, <KeyPoint 0x19f879360>, <KeyPoint 0x19f879390>, <KeyPoint 0x19f8793c0>, <KeyPoint 0x19f8793f0>, <KeyPoint 0x19f879420>, <KeyPoint 0x19f879450>, <KeyPoint 0x19f879480>, <KeyPoint 0x19f8794b0>, <KeyPoint 0x19f8794e0>, <KeyPoint 0x19f879510>, <KeyPoint 0x19f879540>, <KeyPoint 0x19f879570>, <KeyPoint 0x19f8795a0>, <KeyPoint 0x19f8795d0>, <KeyPoint 0x19f879600>, <KeyPoint 0x19f879630>, <KeyPoint 0x19f879660>, <KeyPoint 0x19f879690>, <KeyPoint 0x19f8796c0>, <KeyPoint 0x19f8796f0>, <KeyPoint 0x19f879720>, <KeyPoint 0x19f879750>, <KeyPoint 0x19f879780>, <KeyPoint 0x19f8797b0>, <KeyPoint 0x19f8797e0>, <KeyPoint 0x19f879810>, <KeyPoint 0x19f879840>, <KeyPoint 0x19f879870>, <KeyPoint 0x19f8798a0>, <KeyPoint 0x19f8798d0>, <KeyPoint 0x19f879900>, <KeyPoint 0x19f879930>, <KeyPoint 0x19f879960>, <KeyPoint 0x19f879990>, <KeyPoint 0x19f8799c0>, <KeyPoint 0x19f8799f0>, <KeyPoint 0x19f879a20>, <KeyPoint 0x19f879a50>, <KeyPoint 0x19f879a80>, <KeyPoint 0x19f879ab0>, <KeyPoint 0x19f879ae0>, <KeyPoint 0x19f879b10>, <KeyPoint 0x19f879b40>, <KeyPoint 0x19f879b70>, <KeyPoint 0x19f879ba0>, <KeyPoint 0x19f879bd0>, <KeyPoint 0x19f879c00>, <KeyPoint 0x19f879c30>, <KeyPoint 0x19f879c60>, <KeyPoint 0x19f879c90>, <KeyPoint 0x19f879cc0>, <KeyPoint 0x19f879cf0>, <KeyPoint 0x19f879d20>, <KeyPoint 0x19f879d50>, <KeyPoint 0x19f879d80>, <KeyPoint 0x19f879db0>, <KeyPoint 0x19f879de0>, <KeyPoint 0x19f879e10>, <KeyPoint 0x19f879e40>, <KeyPoint 0x19f879e70>, <KeyPoint 0x19f879ea0>, <KeyPoint 0x19f879ed0>, <KeyPoint 0x19f879f00>, <KeyPoint 0x19f879f30>, <KeyPoint 0x19f879f60>, <KeyPoint 0x19f879f90>, <KeyPoint 0x19f879fc0>, <KeyPoint 0x19f87a030>, <KeyPoint 0x19f87a060>, <KeyPoint 0x19f87a090>, <KeyPoint 0x19f87a0c0>, <KeyPoint 0x19f87a0f0>, <KeyPoint 0x19f87a120>, <KeyPoint 0x19f87a150>, <KeyPoint 0x19f87a180>, <KeyPoint 0x19f87a1b0>, <KeyPoint 0x19f87a1e0>, <KeyPoint 0x19f87a210>, <KeyPoint 0x19f87a240>, <KeyPoint 0x19f87a270>, <KeyPoint 0x19f87a2a0>, <KeyPoint 0x19f87a2d0>, <KeyPoint 0x19f87a300>, <KeyPoint 0x19f87a330>, <KeyPoint 0x19f87a360>, <KeyPoint 0x19f87a390>, <KeyPoint 0x19f87a3c0>, <KeyPoint 0x19f87a3f0>, <KeyPoint 0x19f87a420>, <KeyPoint 0x19f87a450>, <KeyPoint 0x19f87a480>, <KeyPoint 0x19f87a4b0>, <KeyPoint 0x19f87a4e0>, <KeyPoint 0x19f87a510>, <KeyPoint 0x19f87a540>, <KeyPoint 0x19f87a570>, <KeyPoint 0x19f87a5a0>, <KeyPoint 0x19f87a5d0>, <KeyPoint 0x19f87a600>, <KeyPoint 0x19f87a630>, <KeyPoint 0x19f87a660>, <KeyPoint 0x19f87a690>, <KeyPoint 0x19f87a6c0>, <KeyPoint 0x19f87a6f0>, <KeyPoint 0x19f87a720>, <KeyPoint 0x19f87a750>, <KeyPoint 0x19f87a780>, <KeyPoint 0x19f87a7b0>, <KeyPoint 0x19f87a7e0>, <KeyPoint 0x19f87a810>, <KeyPoint 0x19f87a840>, <KeyPoint 0x19f87a870>, <KeyPoint 0x19f87a8a0>, <KeyPoint 0x19f87a8d0>, <KeyPoint 0x19f87a900>, <KeyPoint 0x19f87a930>, <KeyPoint 0x19f87a960>, <KeyPoint 0x19f87a990>), (<KeyPoint 0x19f87ab10>, <KeyPoint 0x19f87aa80>, <KeyPoint 0x19f87aae0>, <KeyPoint 0x19f87aa50>, <KeyPoint 0x19f87aa20>, <KeyPoint 0x19f87a9c0>, <KeyPoint 0x19f87a9f0>, <KeyPoint 0x19f87aab0>, <KeyPoint 0x19f87ab40>, <KeyPoint 0x19f87ab70>, <KeyPoint 0x19f87aba0>, <KeyPoint 0x19f87abd0>, <KeyPoint 0x19f87ac00>, <KeyPoint 0x19f87ac30>, <KeyPoint 0x19f87ac60>, <KeyPoint 0x19f87ac90>, <KeyPoint 0x19f87acc0>, <KeyPoint 0x19f87acf0>, <KeyPoint 0x19f87ad20>, <KeyPoint 0x19f87ad50>, <KeyPoint 0x19f87ad80>, <KeyPoint 0x19f87adb0>, <KeyPoint 0x19f87ade0>, <KeyPoint 0x19f87ae10>, <KeyPoint 0x19f87ae40>, <KeyPoint 0x19f87ae70>, <KeyPoint 0x19f87aea0>, <KeyPoint 0x19f87aed0>, <KeyPoint 0x19f87af00>, <KeyPoint 0x19f87af30>, <KeyPoint 0x19f87af60>, <KeyPoint 0x19f87af90>, <KeyPoint 0x19f87afc0>, <KeyPoint 0x19f87b030>, <KeyPoint 0x19f87b060>, <KeyPoint 0x19f87b090>, <KeyPoint 0x19f87b0c0>, <KeyPoint 0x19f87b0f0>, <KeyPoint 0x19f87b120>, <KeyPoint 0x19f87b150>, <KeyPoint 0x19f87b180>, <KeyPoint 0x19f87b1b0>, <KeyPoint 0x19f87b1e0>, <KeyPoint 0x19f87b210>, <KeyPoint 0x19f87b240>, <KeyPoint 0x19f87b270>, <KeyPoint 0x19f87b2a0>, <KeyPoint 0x19f87b2d0>, <KeyPoint 0x19f87b300>, <KeyPoint 0x19f87b330>, <KeyPoint 0x19f87b360>, <KeyPoint 0x19f87b390>, <KeyPoint 0x19f87b3c0>, <KeyPoint 0x19f87b3f0>, <KeyPoint 0x19f87b420>, <KeyPoint 0x19f87b450>, <KeyPoint 0x19f87b480>, <KeyPoint 0x19f87b4b0>, <KeyPoint 0x19f87b4e0>, <KeyPoint 0x19f87b510>, <KeyPoint 0x19f87b540>, <KeyPoint 0x19f87b570>, <KeyPoint 0x19f87b5a0>, <KeyPoint 0x19f87b5d0>, <KeyPoint 0x19f87b600>, <KeyPoint 0x19f87b630>, <KeyPoint 0x19f87b660>, <KeyPoint 0x19f87b690>, <KeyPoint 0x19f87b6c0>, <KeyPoint 0x19f87b6f0>, <KeyPoint 0x19f87b720>, <KeyPoint 0x19f87b750>, <KeyPoint 0x19f87b780>, <KeyPoint 0x19f87b7b0>, <KeyPoint 0x19f87b7e0>, <KeyPoint 0x19f87b810>, <KeyPoint 0x19f87b840>, <KeyPoint 0x19f87b870>, <KeyPoint 0x19f87b8a0>, <KeyPoint 0x19f87b8d0>, <KeyPoint 0x19f87b900>, <KeyPoint 0x19f87b930>, <KeyPoint 0x19f87b960>, <KeyPoint 0x19f87b990>, <KeyPoint 0x19f87b9c0>, <KeyPoint 0x19f87b9f0>, <KeyPoint 0x19f87ba20>, <KeyPoint 0x19f87ba50>, <KeyPoint 0x19f87ba80>, <KeyPoint 0x19f87bab0>, <KeyPoint 0x19f87bae0>, <KeyPoint 0x19f87bb10>, <KeyPoint 0x19f87bb40>, <KeyPoint 0x19f87bb70>, <KeyPoint 0x19f87bba0>, <KeyPoint 0x19f87bbd0>, <KeyPoint 0x19f87bc00>, <KeyPoint 0x19f87bc30>, <KeyPoint 0x19f87bc60>, <KeyPoint 0x19f87bc90>, <KeyPoint 0x19f87bcc0>, <KeyPoint 0x19f87bcf0>, <KeyPoint 0x19f87bd20>, <KeyPoint 0x19f87bd50>, <KeyPoint 0x19f87bd80>, <KeyPoint 0x19f87bdb0>, <KeyPoint 0x19f87bde0>, <KeyPoint 0x19f87be10>, <KeyPoint 0x19f87be40>, <KeyPoint 0x19f87be70>, <KeyPoint 0x19f87bea0>, <KeyPoint 0x19f87bed0>, <KeyPoint 0x19f87bf00>, <KeyPoint 0x19f87bf30>, <KeyPoint 0x19f87bf60>, <KeyPoint 0x19f87bf90>, <KeyPoint 0x19f87bfc0>, <KeyPoint 0x19f87c030>, <KeyPoint 0x19f87c060>, <KeyPoint 0x19f87c090>, <KeyPoint 0x19f87c0c0>, <KeyPoint 0x19f87c0f0>, <KeyPoint 0x19f87c120>, <KeyPoint 0x19f87c150>, <KeyPoint 0x19f87c180>, <KeyPoint 0x19f87c1b0>, <KeyPoint 0x19f87c1e0>, <KeyPoint 0x19f87c210>, <KeyPoint 0x19f87c240>, <KeyPoint 0x19f87c270>, <KeyPoint 0x19f87c2a0>, <KeyPoint 0x19f87c2d0>, <KeyPoint 0x19f87c300>, <KeyPoint 0x19f87c330>, <KeyPoint 0x19f87c360>, <KeyPoint 0x19f87c390>, <KeyPoint 0x19f87c3c0>, <KeyPoint 0x19f87c3f0>, <KeyPoint 0x19f87c420>, <KeyPoint 0x19f87c450>, <KeyPoint 0x19f87c480>, <KeyPoint 0x19f87c4b0>, <KeyPoint 0x19f87c4e0>, <KeyPoint 0x19f87c510>, <KeyPoint 0x19f87c540>, <KeyPoint 0x19f87c570>, <KeyPoint 0x19f87c5a0>, <KeyPoint 0x19f87c5d0>, <KeyPoint 0x19f87c600>, <KeyPoint 0x19f87c630>, <KeyPoint 0x19f87c660>, <KeyPoint 0x19f87c690>, <KeyPoint 0x19f87c6c0>, <KeyPoint 0x19f87c6f0>, <KeyPoint 0x19f87c720>, <KeyPoint 0x19f87c750>, <KeyPoint 0x19f87c780>, <KeyPoint 0x19f87c7b0>, <KeyPoint 0x19f87c7e0>, <KeyPoint 0x19f87c810>, <KeyPoint 0x19f87c840>, <KeyPoint 0x19f87c870>, <KeyPoint 0x19f87c8a0>, <KeyPoint 0x19f87c8d0>, <KeyPoint 0x19f87c900>, <KeyPoint 0x19f87c930>, <KeyPoint 0x19f87c960>, <KeyPoint 0x19f87c990>, <KeyPoint 0x19f87c9c0>, <KeyPoint 0x19f87c9f0>, <KeyPoint 0x19f87ca20>, <KeyPoint 0x19f87ca50>, <KeyPoint 0x19f87ca80>, <KeyPoint 0x19f87cab0>, <KeyPoint 0x19f87cae0>, <KeyPoint 0x19f87cb10>, <KeyPoint 0x19f87cb40>, <KeyPoint 0x19f87cb70>, <KeyPoint 0x19f87cba0>, <KeyPoint 0x19f87cbd0>, <KeyPoint 0x19f87cc00>, <KeyPoint 0x19f87cc30>, <KeyPoint 0x19f87cc60>, <KeyPoint 0x19f87cc90>, <KeyPoint 0x19f87ccc0>, <KeyPoint 0x19f87ccf0>, <KeyPoint 0x19f87cd20>, <KeyPoint 0x19f87cd50>, <KeyPoint 0x19f87cd80>, <KeyPoint 0x19f87cdb0>, <KeyPoint 0x19f87cde0>, <KeyPoint 0x19f87ce10>, <KeyPoint 0x19f87ce40>, <KeyPoint 0x19f87ce70>, <KeyPoint 0x19f87cea0>, <KeyPoint 0x19f87ced0>, <KeyPoint 0x19f87cf00>, <KeyPoint 0x19f87cf30>, <KeyPoint 0x19f87cf60>, <KeyPoint 0x19f87cf90>, <KeyPoint 0x19f87cfc0>, <KeyPoint 0x19f87d030>, <KeyPoint 0x19f87d060>, <KeyPoint 0x19f87d090>, <KeyPoint 0x19f87d0c0>, <KeyPoint 0x19f87d0f0>, <KeyPoint 0x19f87d120>, <KeyPoint 0x19f87d150>, <KeyPoint 0x19f87d180>, <KeyPoint 0x19f87d1b0>, <KeyPoint 0x19f87d1e0>, <KeyPoint 0x19f87d210>, <KeyPoint 0x19f87d240>, <KeyPoint 0x19f87d270>, <KeyPoint 0x19f87d2a0>, <KeyPoint 0x19f87d2d0>, <KeyPoint 0x19f87d300>, <KeyPoint 0x19f87d330>, <KeyPoint 0x19f87d360>, <KeyPoint 0x19f87d390>, <KeyPoint 0x19f87d3c0>, <KeyPoint 0x19f87d3f0>, <KeyPoint 0x19f87d420>, <KeyPoint 0x19f87d450>, <KeyPoint 0x19f87d480>, <KeyPoint 0x19f87d4b0>, <KeyPoint 0x19f87d4e0>, <KeyPoint 0x19f87d510>, <KeyPoint 0x19f87d540>, <KeyPoint 0x19f87d570>, <KeyPoint 0x19f87d5a0>, <KeyPoint 0x19f87d5d0>, <KeyPoint 0x19f87d600>, <KeyPoint 0x19f87d630>, <KeyPoint 0x19f87d660>, <KeyPoint 0x19f87d690>, <KeyPoint 0x19f87d6c0>, <KeyPoint 0x19f87d6f0>, <KeyPoint 0x19f87d720>, <KeyPoint 0x19f87d750>, <KeyPoint 0x19f87d780>, <KeyPoint 0x19f87d7b0>, <KeyPoint 0x19f87d7e0>, <KeyPoint 0x19f87d810>, <KeyPoint 0x19f87d840>, <KeyPoint 0x19f87d870>, <KeyPoint 0x19f87d8a0>, <KeyPoint 0x19f87d8d0>, <KeyPoint 0x19f87d900>, <KeyPoint 0x19f87d930>, <KeyPoint 0x19f87d960>, <KeyPoint 0x19f87d990>, <KeyPoint 0x19f87d9c0>, <KeyPoint 0x19f87d9f0>, <KeyPoint 0x19f87da20>, <KeyPoint 0x19f87da50>, <KeyPoint 0x19f87da80>, <KeyPoint 0x19f87dab0>, <KeyPoint 0x19f87dae0>, <KeyPoint 0x19f87db10>, <KeyPoint 0x19f87db40>, <KeyPoint 0x19f87db70>, <KeyPoint 0x19f87dba0>, <KeyPoint 0x19f87dbd0>, <KeyPoint 0x19f87dc00>, <KeyPoint 0x19f87dc30>, <KeyPoint 0x19f87dc60>, <KeyPoint 0x19f87dc90>, <KeyPoint 0x19f87dcc0>, <KeyPoint 0x19f87dcf0>, <KeyPoint 0x19f87dd20>, <KeyPoint 0x19f87dd50>, <KeyPoint 0x19f87dd80>, <KeyPoint 0x19f87ddb0>, <KeyPoint 0x19f87dde0>, <KeyPoint 0x19f87de10>, <KeyPoint 0x19f87de40>, <KeyPoint 0x19f87de70>, <KeyPoint 0x19f87dea0>, <KeyPoint 0x19f87ded0>, <KeyPoint 0x19f87df00>, <KeyPoint 0x19f87df30>, <KeyPoint 0x19f87df60>, <KeyPoint 0x19f87df90>, <KeyPoint 0x19f87dfc0>, <KeyPoint 0x19f87e030>, <KeyPoint 0x19f87e060>, <KeyPoint 0x19f87e090>, <KeyPoint 0x19f87e0c0>, <KeyPoint 0x19f87e0f0>, <KeyPoint 0x19f87e120>, <KeyPoint 0x19f87e150>, <KeyPoint 0x19f87e180>, <KeyPoint 0x19f87e1b0>, <KeyPoint 0x19f87e1e0>, <KeyPoint 0x19f87e210>, <KeyPoint 0x19f87e240>, <KeyPoint 0x19f87e270>, <KeyPoint 0x19f87e2a0>, <KeyPoint 0x19f87e2d0>, <KeyPoint 0x19f87e300>, <KeyPoint 0x19f87e330>, <KeyPoint 0x19f87e360>, <KeyPoint 0x19f87e390>, <KeyPoint 0x19f87e3c0>, <KeyPoint 0x19f87e3f0>, <KeyPoint 0x19f87e420>, <KeyPoint 0x19f87e450>, <KeyPoint 0x19f87e480>, <KeyPoint 0x19f87e4b0>, <KeyPoint 0x19f87e4e0>, <KeyPoint 0x19f87e510>, <KeyPoint 0x19f87e540>, <KeyPoint 0x19f87e570>, <KeyPoint 0x19f87e5a0>, <KeyPoint 0x19f87e5d0>, <KeyPoint 0x19f87e600>, <KeyPoint 0x19f87e630>, <KeyPoint 0x19f87e660>, <KeyPoint 0x19f87e690>, <KeyPoint 0x19f87e6c0>, <KeyPoint 0x19f87e6f0>, <KeyPoint 0x19f87e720>, <KeyPoint 0x19f87e750>, <KeyPoint 0x19f87e780>, <KeyPoint 0x19f87e7b0>, <KeyPoint 0x19f87e7e0>, <KeyPoint 0x19f87e810>, <KeyPoint 0x19f87e840>, <KeyPoint 0x19f87e870>, <KeyPoint 0x19f87e8a0>, <KeyPoint 0x19f87e8d0>, <KeyPoint 0x19f87e900>, <KeyPoint 0x19f87e930>, <KeyPoint 0x19f87e960>, <KeyPoint 0x19f87e990>, <KeyPoint 0x19f87e9c0>, <KeyPoint 0x19f87e9f0>, <KeyPoint 0x19f87ea20>, <KeyPoint 0x19f87ea50>, <KeyPoint 0x19f87ea80>, <KeyPoint 0x19f87eab0>, <KeyPoint 0x19f87eae0>, <KeyPoint 0x19f87eb10>, <KeyPoint 0x19f87eb40>, <KeyPoint 0x19f87eb70>, <KeyPoint 0x19f87eba0>, <KeyPoint 0x19f87ebd0>, <KeyPoint 0x19f87ec00>, <KeyPoint 0x19f87ec30>, <KeyPoint 0x19f87ec60>, <KeyPoint 0x19f87ec90>, <KeyPoint 0x19f87ecc0>, <KeyPoint 0x19f87ecf0>, <KeyPoint 0x19f87ed20>, <KeyPoint 0x19f87ed50>, <KeyPoint 0x19f87ed80>, <KeyPoint 0x19f87edb0>, <KeyPoint 0x19f87ede0>, <KeyPoint 0x19f87ee10>, <KeyPoint 0x19f87ee40>, <KeyPoint 0x19f87ee70>, <KeyPoint 0x19f87eea0>, <KeyPoint 0x19f87eed0>, <KeyPoint 0x19f87ef00>, <KeyPoint 0x19f87ef30>, <KeyPoint 0x19f87ef60>, <KeyPoint 0x19f87ef90>, <KeyPoint 0x19f87efc0>, <KeyPoint 0x19f87f030>, <KeyPoint 0x19f87f060>, <KeyPoint 0x19f87f090>, <KeyPoint 0x19f87f0c0>, <KeyPoint 0x19f87f0f0>, <KeyPoint 0x19f87f120>, <KeyPoint 0x19f87f150>, <KeyPoint 0x19f87f180>, <KeyPoint 0x19f87f1b0>, <KeyPoint 0x19f87f1e0>, <KeyPoint 0x19f87f210>, <KeyPoint 0x19f87f240>, <KeyPoint 0x19f87f270>, <KeyPoint 0x19f87f2a0>, <KeyPoint 0x19f87f2d0>, <KeyPoint 0x19f87f300>, <KeyPoint 0x19f87f330>, <KeyPoint 0x19f87f360>, <KeyPoint 0x19f87f390>, <KeyPoint 0x19f87f3c0>, <KeyPoint 0x19f87f3f0>, <KeyPoint 0x19f87f420>, <KeyPoint 0x19f87f450>, <KeyPoint 0x19f87f480>, <KeyPoint 0x19f87f4b0>, <KeyPoint 0x19f87f4e0>, <KeyPoint 0x19f87f510>, <KeyPoint 0x19f87f540>, <KeyPoint 0x19f87f570>, <KeyPoint 0x19f87f5a0>, <KeyPoint 0x19f87f5d0>, <KeyPoint 0x19f87f600>, <KeyPoint 0x19f87f630>, <KeyPoint 0x19f87f660>, <KeyPoint 0x19f87f690>, <KeyPoint 0x19f87f6c0>, <KeyPoint 0x19f87f6f0>, <KeyPoint 0x19f87f720>, <KeyPoint 0x19f87f750>, <KeyPoint 0x19f87f780>, <KeyPoint 0x19f87f7b0>, <KeyPoint 0x19f87f7e0>, <KeyPoint 0x19f87f810>, <KeyPoint 0x19f87f840>, <KeyPoint 0x19f87f870>, <KeyPoint 0x19f87f8a0>, <KeyPoint 0x19f87f8d0>, <KeyPoint 0x19f87f900>, <KeyPoint 0x19f87f930>, <KeyPoint 0x19f87f960>, <KeyPoint 0x19f87f990>, <KeyPoint 0x19f87f9c0>, <KeyPoint 0x19f87f9f0>, <KeyPoint 0x19f87fa20>, <KeyPoint 0x19f87fa50>, <KeyPoint 0x19f87fa80>, <KeyPoint 0x19f87fab0>, <KeyPoint 0x19f87fae0>, <KeyPoint 0x19f87fb10>, <KeyPoint 0x19f87fb40>, <KeyPoint 0x19f87fb70>, <KeyPoint 0x19f87fba0>, <KeyPoint 0x19f87fbd0>, <KeyPoint 0x19f87fc00>, <KeyPoint 0x19f87fc30>, <KeyPoint 0x19f87fc60>, <KeyPoint 0x19f87fc90>, <KeyPoint 0x19f87fcc0>, <KeyPoint 0x19f87fcf0>, <KeyPoint 0x19f87fd20>, <KeyPoint 0x19f87fd50>, <KeyPoint 0x19f87fd80>, <KeyPoint 0x19f87fdb0>, <KeyPoint 0x19f87fde0>, <KeyPoint 0x19f87fe10>, <KeyPoint 0x19f87fe40>, <KeyPoint 0x19f87fe70>, <KeyPoint 0x19f87fea0>, <KeyPoint 0x19f87fed0>, <KeyPoint 0x19f87ff00>, <KeyPoint 0x19f87ff30>, <KeyPoint 0x19f87ff60>, <KeyPoint 0x19f87ff90>, <KeyPoint 0x19f87ffc0>, <KeyPoint 0x19f880030>, <KeyPoint 0x19f880060>, <KeyPoint 0x19f880090>, <KeyPoint 0x19f8800c0>, <KeyPoint 0x19f8800f0>, <KeyPoint 0x19f880120>, <KeyPoint 0x19f880150>, <KeyPoint 0x19f880180>, <KeyPoint 0x19f8801b0>, <KeyPoint 0x19f8801e0>, <KeyPoint 0x19f880210>, <KeyPoint 0x19f880240>, <KeyPoint 0x19f880270>, <KeyPoint 0x19f8802a0>, <KeyPoint 0x19f8802d0>, <KeyPoint 0x19f880300>, <KeyPoint 0x19f880330>, <KeyPoint 0x19f880360>, <KeyPoint 0x19f880390>, <KeyPoint 0x19f8803c0>, <KeyPoint 0x19f8803f0>, <KeyPoint 0x19f880420>, <KeyPoint 0x19f880450>, <KeyPoint 0x19f880480>, <KeyPoint 0x19f8804b0>, <KeyPoint 0x19f8804e0>, <KeyPoint 0x19f880510>, <KeyPoint 0x19f880540>, <KeyPoint 0x19f880570>, <KeyPoint 0x19f8805a0>, <KeyPoint 0x19f8805d0>, <KeyPoint 0x19f880600>, <KeyPoint 0x19f880630>, <KeyPoint 0x19f880660>, <KeyPoint 0x19f880690>, <KeyPoint 0x19f8806c0>, <KeyPoint 0x19f8806f0>, <KeyPoint 0x19f880720>, <KeyPoint 0x19f880750>, <KeyPoint 0x19f880780>, <KeyPoint 0x19f8807b0>, <KeyPoint 0x19f8807e0>, <KeyPoint 0x19f880810>, <KeyPoint 0x19f880840>, <KeyPoint 0x19f880870>, <KeyPoint 0x19f8808a0>, <KeyPoint 0x19f8808d0>)]\n"
     ]
    }
   ],
   "source": [
    "\n",
    "# image_paths=['s1.jpeg','s2.jpeg','s3.jpeg','s4.jpeg','s5.jpeg']\n",
    "image_paths=['s1.jpeg','s2.jpeg']\n",
    "\n",
    "\n",
    "# stitchy=cv2.Stitcher.create()\n",
    "# (dummy,output)=stitchy.stitch(imgs)\n",
    "\n",
    "# if dummy != cv2.STITCHER_OK:\n",
    "\n",
    "# \tprint(\"stitching ain't successful\")\n",
    "# else:\n",
    "# \tprint('Your Panorama is ready!!!')\n",
    "\n",
    "pano(image_paths)\n",
    "\n",
    "\n",
    "# final output\n",
    "# cv2.imshow('final result',output)\n",
    "\n",
    "# cv2.waitKey(0)\n"
   ]
  },
  {
   "cell_type": "code",
   "execution_count": null,
   "metadata": {},
   "outputs": [],
   "source": []
  }
 ],
 "metadata": {
  "interpreter": {
   "hash": "f32c342d9ea7f5036db09204dae45f5252a65bc883a367b7eae2cb473c9503d1"
  },
  "kernelspec": {
   "display_name": "Python 3.6.13 64-bit ('afr': conda)",
   "language": "python",
   "name": "python3"
  },
  "language_info": {
   "codemirror_mode": {
    "name": "ipython",
    "version": 3
   },
   "file_extension": ".py",
   "mimetype": "text/x-python",
   "name": "python",
   "nbconvert_exporter": "python",
   "pygments_lexer": "ipython3",
   "version": "3.9.7"
  },
  "orig_nbformat": 4
 },
 "nbformat": 4,
 "nbformat_minor": 2
}
