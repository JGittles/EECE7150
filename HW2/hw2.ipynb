{
 "cells": [
  {
   "cell_type": "code",
   "execution_count": 27,
   "metadata": {},
   "outputs": [],
   "source": [
    "import os\n",
    "import cv2\n",
    "import tkinter\n",
    "import matplotlib\n",
    "import numpy as np\n",
    "matplotlib.use('TkAgg')\n",
    "import matplotlib.pyplot as plt\n",
    "%matplotlib tk"
   ]
  },
  {
   "cell_type": "code",
   "execution_count": 28,
   "metadata": {},
   "outputs": [],
   "source": [
    "def pointLoad(imgpath,pts):\n",
    "    if os.path.exists(imgpath):\n",
    "        img = cv2.imread(imgpath)\n",
    "        plt.imshow(img)\n",
    "        ptMatrix = plt.ginput(pts)\n",
    "        # plt.close()\n",
    "        return img, np.array(ptMatrix).astype(int)\n",
    "        \n",
    "\n",
    "    else:\n",
    "        print(\"Invalid image path\")\n",
    "        return"
   ]
  },
  {
   "cell_type": "code",
   "execution_count": 29,
   "metadata": {},
   "outputs": [],
   "source": [
    "def getH(dest, src):\n",
    "    p = np.array([0,0,0,0,0,0,0,0,1])\n",
    "    # if len(dest) < 5 and len(src) < 5:\n",
    "        \n",
    "\n",
    "    for i in range(len(dest)):\n",
    "        pi = np.array([[-src[i][0],-src[i][1],-1,0,0,0,src[i][0]*dest[i][0],src[i][1]*dest[i][0],dest[i][0]],\n",
    "        [0,0,0,-src[i][0],-src[i][1],-1,src[i][0]*dest[i][1],src[i][1]*dest[i][1],dest[i][1]]])\n",
    "        p = np.vstack((pi,p))\n",
    "\n",
    "  \n",
    "    x = np.zeros((len(dest)*2,1))\n",
    "    x = np.vstack((x,np.array([1])))\n",
    "    H, residuals, rank, s = np.linalg.lstsq(p,x)\n",
    "    H = H.reshape((3,3))\n",
    "    \n",
    "\n",
    "    \n",
    "    return H\n",
    "        \n"
   ]
  },
  {
   "cell_type": "code",
   "execution_count": 30,
   "metadata": {},
   "outputs": [],
   "source": [
    "def pano(image_paths):\n",
    "    imgs = []\n",
    "    imgs_gray = []\n",
    "    \n",
    "    orbvals={\"keypts\":[],\"descrpt\":[],\"matches\":[]}\n",
    "    orb = cv2.ORB_create()\n",
    "    # sift = cv2.xfeatures2d.SIFT_create(nfeatures=200)\n",
    "    for i in range(len(image_paths)):\n",
    "        imgs.append(cv2.imread(image_paths[i]))\n",
    "        imgs[i]=cv2.resize(imgs[i],(0,0),fx=0.4,fy=0.4)\n",
    "        imgs_gray.append(cv2.cvtColor(imgs[i],cv2.COLOR_BGR2GRAY))\n",
    "        keypt, desc = orb.detectAndCompute(imgs_gray[i],None)\n",
    "        # keypt, desc = sift.detectAndCompute(imgs_gray[i], None)\n",
    "        orbvals[\"keypts\"].append(keypt)\n",
    "        orbvals[\"descrpt\"].append(desc)\n",
    "        # print((orbvals[\"keypts\"]))\n",
    "        # cv2.imshow(\"image\",cv2.drawKeypoints(imgs[i], orbvals[\"keypts\"][i], None, (255, 0, 255)))\n",
    "\n",
    "\n",
    "    bf = cv2.BFMatcher_create(cv2.NORM_HAMMING)    \n",
    "    for i in range(len(imgs)-1):\n",
    "        orbvals[\"matches\"].append(bf.knnMatch(orbvals[\"descrpt\"][i], orbvals[\"descrpt\"][i+1],k=2))\n",
    "    print(orbvals['matches'])\n",
    "    cv2.imshow(draw_matches(imgs[0],orbvals[\"keypts\"][0],imgs[1],orbvals[\"keypts\"][1],orbvals[\"matches\"][0]))\n"
   ]
  },
  {
   "cell_type": "code",
   "execution_count": 31,
   "metadata": {},
   "outputs": [],
   "source": [
    "def draw_matches(img1, keypoints1, img2, keypoints2, matches):\n",
    "  r, c = img1.shape[:2]\n",
    "  r1, c1 = img2.shape[:2]\n",
    "\n",
    "  # Create a blank image with the size of the first image + second image\n",
    "  output_img = np.zeros((max([r, r1]), c+c1, 9), dtype='uint8')\n",
    "  output_img[:r, :c, :] = np.dstack([img1, img1, img1])\n",
    "  output_img[:r1, c:c+c1, :] = np.dstack([img2, img2, img2])\n",
    "\n",
    "  # Go over all of the matching points and extract them\n",
    "  for match in matches:\n",
    "    (x1, y1) = keypoints1[img1_idx].pt\n",
    "    (x2, y2) = keypoints2[img2_idx].pt\n",
    "\n",
    "    # Draw circles on the keypoints\n",
    "    cv2.circle(output_img, (int(x1),int(y1)), 4, (0, 255, 255), 1)\n",
    "    cv2.circle(output_img, (int(x2)+c,int(y2)), 4, (0, 255, 255), 1)\n",
    "\n",
    "    # Connect the same keypoints\n",
    "    cv2.line(output_img, (int(x1),int(y1)), (int(x2)+c,int(y2)), (0, 255, 255), 1)\n",
    "    \n",
    "  return output_img"
   ]
  },
  {
   "cell_type": "code",
   "execution_count": 22,
   "metadata": {},
   "outputs": [],
   "source": [
    "img1, img1pts = pointLoad(\"image1.jpg\",8)\n",
    "\n",
    "img2, img2pts = pointLoad(\"image2.jpg\",8)\n",
    "\n",
    "\n"
   ]
  },
  {
   "cell_type": "code",
   "execution_count": null,
   "metadata": {},
   "outputs": [],
   "source": [
    "\n",
    "cv2.imshow(\"image 1\",img1)\n",
    "cv2.imshow(\"image 2\",img2)\n"
   ]
  },
  {
   "cell_type": "code",
   "execution_count": 23,
   "metadata": {},
   "outputs": [
    {
     "name": "stderr",
     "output_type": "stream",
     "text": [
      "/var/folders/xh/b9gkq_p12x95yb6qg4603lq40000gn/T/ipykernel_26765/3460832648.py:14: FutureWarning: `rcond` parameter will change to the default of machine precision times ``max(M, N)`` where M and N are the input matrix dimensions.\n",
      "To use the future default and silence this warning we advise to pass `rcond=None`, to keep using the old, explicitly pass `rcond=-1`.\n",
      "  H, residuals, rank, s = np.linalg.lstsq(p,x)\n"
     ]
    }
   ],
   "source": [
    "H = getH(img1pts,img2pts)\n",
    "im_out = cv2.warpPerspective(img2,H,(img1.shape[1],img1.shape[0]))\n",
    "mask = np.zeros(img1.shape[:2], dtype=\"uint8\")\n",
    "cv2.fillConvexPoly(mask, np.int32([img1pts]),color=255)\n",
    "cv2.fillConvexPoly(img1, np.int32([img1pts]),color=0)\n",
    "masked =cv2.bitwise_and(im_out,im_out,mask=mask)\n",
    "img3 = cv2.add(img1,masked)\n",
    "plt.imshow(img3)\n",
    "\n",
    "plt.show()"
   ]
  },
  {
   "cell_type": "markdown",
   "metadata": {},
   "source": []
  },
  {
   "cell_type": "code",
   "execution_count": 16,
   "metadata": {},
   "outputs": [
    {
     "name": "stdout",
     "output_type": "stream",
     "text": [
      "[((<DMatch 0x198ebc190>, <DMatch 0x198ebc030>), (<DMatch 0x198ebc110>, <DMatch 0x198ebc4b0>), (<DMatch 0x198ebc230>, <DMatch 0x198ebc270>), (<DMatch 0x198ebc1f0>, <DMatch 0x198e6f390>), (<DMatch 0x198e6f1d0>, <DMatch 0x198e6f430>), (<DMatch 0x198e6f650>, <DMatch 0x198e6f630>), (<DMatch 0x198e6f610>, <DMatch 0x198e6f2b0>), (<DMatch 0x198e6f5d0>, <DMatch 0x198e6f370>), (<DMatch 0x198e6f170>, <DMatch 0x198e6f3f0>), (<DMatch 0x198e6f270>, <DMatch 0x198e6f350>), (<DMatch 0x198e6f2d0>, <DMatch 0x198e6f310>), (<DMatch 0x198e6f590>, <DMatch 0x198e6f210>), (<DMatch 0x198e6f570>, <DMatch 0x198e6f550>), (<DMatch 0x198e6f530>, <DMatch 0x198e6f4b0>), (<DMatch 0x198e6f4d0>, <DMatch 0x198e6f4f0>), (<DMatch 0x198e6f6b0>, <DMatch 0x198e6f490>), (<DMatch 0x198e6f6d0>, <DMatch 0x198e6f6f0>), (<DMatch 0x198e6f710>, <DMatch 0x198e6f730>), (<DMatch 0x198e6f750>, <DMatch 0x198e6f770>), (<DMatch 0x198e6f790>, <DMatch 0x198e6f7b0>), (<DMatch 0x198e6f7d0>, <DMatch 0x198e6f7f0>), (<DMatch 0x198e6f810>, <DMatch 0x198e6f830>), (<DMatch 0x198e6f850>, <DMatch 0x198e6f870>), (<DMatch 0x198e6f890>, <DMatch 0x198e6f8b0>), (<DMatch 0x198e6f8d0>, <DMatch 0x198e6f8f0>), (<DMatch 0x198e6f910>, <DMatch 0x198e6f930>), (<DMatch 0x198e6f950>, <DMatch 0x198e6f970>), (<DMatch 0x198e6f990>, <DMatch 0x198e6f9b0>), (<DMatch 0x198e6f9d0>, <DMatch 0x198e6f9f0>), (<DMatch 0x198e6fa10>, <DMatch 0x198e6fa30>), (<DMatch 0x198e6fa50>, <DMatch 0x198e6fa70>), (<DMatch 0x198e6fa90>, <DMatch 0x198e6fab0>), (<DMatch 0x198e6fad0>, <DMatch 0x198e6faf0>), (<DMatch 0x198e6fb10>, <DMatch 0x198e6fb30>), (<DMatch 0x198e6fb50>, <DMatch 0x198e6fb70>), (<DMatch 0x198e6fb90>, <DMatch 0x198e6fbb0>), (<DMatch 0x198e6fbd0>, <DMatch 0x198e6fbf0>), (<DMatch 0x198e6fc10>, <DMatch 0x198e6fc30>), (<DMatch 0x198e6fc50>, <DMatch 0x198e6fc70>), (<DMatch 0x198e6fc90>, <DMatch 0x198e6fcb0>), (<DMatch 0x198e6fcd0>, <DMatch 0x198e6fcf0>), (<DMatch 0x198e6fd10>, <DMatch 0x198e6fd30>), (<DMatch 0x198e6fd50>, <DMatch 0x198e6fd70>), (<DMatch 0x198e6fd90>, <DMatch 0x198e6fdb0>), (<DMatch 0x198e6fdd0>, <DMatch 0x198e6fdf0>), (<DMatch 0x198e6fe10>, <DMatch 0x198e6fe30>), (<DMatch 0x198e6fe50>, <DMatch 0x198e6fe70>), (<DMatch 0x198e6fe90>, <DMatch 0x198e6feb0>), (<DMatch 0x198e6fed0>, <DMatch 0x198e6fef0>), (<DMatch 0x198e6ff10>, <DMatch 0x198e6ff30>), (<DMatch 0x198e6ff50>, <DMatch 0x198e6ff70>), (<DMatch 0x198e6ff90>, <DMatch 0x198e6ffb0>), (<DMatch 0x198e6ffd0>, <DMatch 0x198e6f330>), (<DMatch 0x198e6f5b0>, <DMatch 0x198e6f3b0>), (<DMatch 0x198e6f290>, <DMatch 0x198e6f190>), (<DMatch 0x198e6f470>, <DMatch 0x198e6f410>), (<DMatch 0x198e6f510>, <DMatch 0x198e6f690>), (<DMatch 0x198e6f1b0>, <DMatch 0x198e6f670>), (<DMatch 0x198e6f3d0>, <DMatch 0x198e0a6b0>), (<DMatch 0x198e0a7d0>, <DMatch 0x198e0a0b0>), (<DMatch 0x198e0a0d0>, <DMatch 0x198e0a170>), (<DMatch 0x198e0a0f0>, <DMatch 0x198e0a110>), (<DMatch 0x198e0a090>, <DMatch 0x198e0a050>), (<DMatch 0x198e0a070>, <DMatch 0x198e0a130>), (<DMatch 0x198e0a330>, <DMatch 0x198e0a1b0>), (<DMatch 0x198e0a2f0>, <DMatch 0x198e0a310>), (<DMatch 0x198e0a030>, <DMatch 0x198e0a190>), (<DMatch 0x198e0a2b0>, <DMatch 0x198e0a370>), (<DMatch 0x198e0a350>, <DMatch 0x198e0a2d0>), (<DMatch 0x198e0a290>, <DMatch 0x198e0a230>), (<DMatch 0x198e0a1d0>, <DMatch 0x198e0a250>), (<DMatch 0x198e0a270>, <DMatch 0x198e0a210>), (<DMatch 0x187f71c10>, <DMatch 0x187f71c90>), (<DMatch 0x198da8c30>, <DMatch 0x198da8cd0>), (<DMatch 0x198da8f30>, <DMatch 0x198da8cf0>), (<DMatch 0x198da8b70>, <DMatch 0x198da8f70>), (<DMatch 0x198da8b90>, <DMatch 0x198da8c90>), (<DMatch 0x198da8fd0>, <DMatch 0x198da8d70>), (<DMatch 0x198da8db0>, <DMatch 0x198da8af0>), (<DMatch 0x198da8ab0>, <DMatch 0x198da8df0>), (<DMatch 0x198da8e50>, <DMatch 0x198da8cb0>), (<DMatch 0x198da8d50>, <DMatch 0x198da8e30>), (<DMatch 0x198f50750>, <DMatch 0x198f506d0>), (<DMatch 0x198f506f0>, <DMatch 0x198f50710>), (<DMatch 0x198f506b0>, <DMatch 0x198f50730>), (<DMatch 0x198f50770>, <DMatch 0x198f50790>), (<DMatch 0x198f507b0>, <DMatch 0x198f507d0>), (<DMatch 0x198f507f0>, <DMatch 0x198f50810>), (<DMatch 0x198f50830>, <DMatch 0x198f50850>), (<DMatch 0x198f50870>, <DMatch 0x198f50890>), (<DMatch 0x198f508b0>, <DMatch 0x198f508d0>), (<DMatch 0x198f508f0>, <DMatch 0x198f50910>), (<DMatch 0x198f50930>, <DMatch 0x198f50950>), (<DMatch 0x198f50970>, <DMatch 0x198f50990>), (<DMatch 0x198f509b0>, <DMatch 0x198f509d0>), (<DMatch 0x198f509f0>, <DMatch 0x198f50a10>), (<DMatch 0x198f50a30>, <DMatch 0x198f50a50>), (<DMatch 0x198f50a70>, <DMatch 0x198f50a90>), (<DMatch 0x198f50ab0>, <DMatch 0x198f50ad0>), (<DMatch 0x198f50af0>, <DMatch 0x198f50b10>), (<DMatch 0x198f50b30>, <DMatch 0x198f50b50>), (<DMatch 0x198f50b70>, <DMatch 0x198f50b90>), (<DMatch 0x198f50bb0>, <DMatch 0x198f50bd0>), (<DMatch 0x198f50bf0>, <DMatch 0x198f50c10>), (<DMatch 0x198f50c30>, <DMatch 0x198f50c50>), (<DMatch 0x198f50c70>, <DMatch 0x198f50c90>), (<DMatch 0x198f50cb0>, <DMatch 0x198f50cd0>), (<DMatch 0x198f50cf0>, <DMatch 0x198f50d10>), (<DMatch 0x198f50d30>, <DMatch 0x198f50d50>), (<DMatch 0x198f50d70>, <DMatch 0x198f50d90>), (<DMatch 0x198f50db0>, <DMatch 0x198f50dd0>), (<DMatch 0x198f50df0>, <DMatch 0x198f50e10>), (<DMatch 0x198f50e30>, <DMatch 0x198f50e50>), (<DMatch 0x198f50e70>, <DMatch 0x198f50e90>), (<DMatch 0x198f50eb0>, <DMatch 0x198f50ed0>), (<DMatch 0x198f50ef0>, <DMatch 0x198f50f10>), (<DMatch 0x198f50f30>, <DMatch 0x198f50f50>), (<DMatch 0x198f50f70>, <DMatch 0x198f50f90>), (<DMatch 0x198f50fb0>, <DMatch 0x198f50fd0>), (<DMatch 0x198f5d030>, <DMatch 0x198f5d050>), (<DMatch 0x198f5d070>, <DMatch 0x198f5d090>), (<DMatch 0x198f5d0b0>, <DMatch 0x198f5d0d0>), (<DMatch 0x198f5d0f0>, <DMatch 0x198f5d110>), (<DMatch 0x198f5d130>, <DMatch 0x198f5d150>), (<DMatch 0x198f5d170>, <DMatch 0x198f5d190>), (<DMatch 0x198f5d1b0>, <DMatch 0x198f5d1d0>), (<DMatch 0x198f5d1f0>, <DMatch 0x198f5d210>), (<DMatch 0x198f5d230>, <DMatch 0x198f5d250>), (<DMatch 0x198f5d270>, <DMatch 0x198f5d290>), (<DMatch 0x198f5d2b0>, <DMatch 0x198f5d2d0>), (<DMatch 0x198f5d2f0>, <DMatch 0x198f5d310>), (<DMatch 0x198f5d330>, <DMatch 0x198f5d350>), (<DMatch 0x198f5d370>, <DMatch 0x198f5d390>), (<DMatch 0x198f5d3b0>, <DMatch 0x198f5d3d0>), (<DMatch 0x198f5d3f0>, <DMatch 0x198f5d410>), (<DMatch 0x198f5d430>, <DMatch 0x198f5d450>), (<DMatch 0x198f5d470>, <DMatch 0x198f5d490>), (<DMatch 0x198f5d4b0>, <DMatch 0x198f5d4d0>), (<DMatch 0x198f5d4f0>, <DMatch 0x198f5d510>), (<DMatch 0x198f5d530>, <DMatch 0x198f5d550>), (<DMatch 0x198f5d570>, <DMatch 0x198f5d590>), (<DMatch 0x198f5d5b0>, <DMatch 0x198f5d5d0>), (<DMatch 0x198f5d5f0>, <DMatch 0x198f5d610>), (<DMatch 0x198f5d630>, <DMatch 0x198f5d650>), (<DMatch 0x198f5d670>, <DMatch 0x198f5d690>), (<DMatch 0x198f5d6b0>, <DMatch 0x198f5d6d0>), (<DMatch 0x198f5d6f0>, <DMatch 0x198f5d710>), (<DMatch 0x198f5d730>, <DMatch 0x198f5d750>), (<DMatch 0x198f5d770>, <DMatch 0x198f5d790>), (<DMatch 0x198f5d7b0>, <DMatch 0x198f5d7d0>), (<DMatch 0x198f5d7f0>, <DMatch 0x198f5d810>), (<DMatch 0x198f5d830>, <DMatch 0x198f5d850>), (<DMatch 0x198f5d870>, <DMatch 0x198f5d890>), (<DMatch 0x198f5d8b0>, <DMatch 0x198f5d8d0>), (<DMatch 0x198f5d8f0>, <DMatch 0x198f5d910>), (<DMatch 0x198f5d930>, <DMatch 0x198f5d950>), (<DMatch 0x198f5d970>, <DMatch 0x198f5d990>), (<DMatch 0x198f5d9b0>, <DMatch 0x198f5d9d0>), (<DMatch 0x198f5d9f0>, <DMatch 0x198f5da10>), (<DMatch 0x198f5da30>, <DMatch 0x198f5da50>), (<DMatch 0x198f5da70>, <DMatch 0x198f5da90>), (<DMatch 0x198f5dab0>, <DMatch 0x198f5dad0>), (<DMatch 0x198f5daf0>, <DMatch 0x198f5db10>), (<DMatch 0x198f5db30>, <DMatch 0x198f5db50>), (<DMatch 0x198f5db70>, <DMatch 0x198f5db90>), (<DMatch 0x198f5dbb0>, <DMatch 0x198f5dbd0>), (<DMatch 0x198f5dbf0>, <DMatch 0x198f5dc10>), (<DMatch 0x198f5dc30>, <DMatch 0x198f5dc50>), (<DMatch 0x198f5dc70>, <DMatch 0x198f5dc90>), (<DMatch 0x198f5dcb0>, <DMatch 0x198f5dcd0>), (<DMatch 0x198f5dcf0>, <DMatch 0x198f5dd10>), (<DMatch 0x198f5dd30>, <DMatch 0x198f5dd50>), (<DMatch 0x198f5dd70>, <DMatch 0x198f5dd90>), (<DMatch 0x198f5ddb0>, <DMatch 0x198f5ddd0>), (<DMatch 0x198f5ddf0>, <DMatch 0x198f5de10>), (<DMatch 0x198f5de30>, <DMatch 0x198f5de50>), (<DMatch 0x198f5de70>, <DMatch 0x198f5de90>), (<DMatch 0x198f5deb0>, <DMatch 0x198f5ded0>), (<DMatch 0x198f5def0>, <DMatch 0x198f5df10>), (<DMatch 0x198f5df30>, <DMatch 0x198f5df50>), (<DMatch 0x198f5df70>, <DMatch 0x198f5df90>), (<DMatch 0x198f5dfb0>, <DMatch 0x198f5dfd0>), (<DMatch 0x198f5e030>, <DMatch 0x198f5e050>), (<DMatch 0x198f5e070>, <DMatch 0x198f5e090>), (<DMatch 0x198f5e0b0>, <DMatch 0x198f5e0d0>), (<DMatch 0x198f5e0f0>, <DMatch 0x198f5e110>), (<DMatch 0x198f5e130>, <DMatch 0x198f5e150>), (<DMatch 0x198f5e170>, <DMatch 0x198f5e190>), (<DMatch 0x198f5e1b0>, <DMatch 0x198f5e1d0>), (<DMatch 0x198f5e1f0>, <DMatch 0x198f5e210>), (<DMatch 0x198f5e230>, <DMatch 0x198f5e250>), (<DMatch 0x198f5e270>, <DMatch 0x198f5e290>), (<DMatch 0x198f5e2b0>, <DMatch 0x198f5e2d0>), (<DMatch 0x198f5e2f0>, <DMatch 0x198f5e310>), (<DMatch 0x198f5e330>, <DMatch 0x198f5e350>), (<DMatch 0x198f5e370>, <DMatch 0x198f5e390>), (<DMatch 0x198f5e3b0>, <DMatch 0x198f5e3d0>), (<DMatch 0x198f5e3f0>, <DMatch 0x198f5e410>), (<DMatch 0x198f5e430>, <DMatch 0x198f5e450>), (<DMatch 0x198f5e470>, <DMatch 0x198f5e490>), (<DMatch 0x198f5e4b0>, <DMatch 0x198f5e4d0>), (<DMatch 0x198f5e4f0>, <DMatch 0x198f5e510>), (<DMatch 0x198f5e530>, <DMatch 0x198f5e550>), (<DMatch 0x198f5e570>, <DMatch 0x198f5e590>), (<DMatch 0x198f5e5b0>, <DMatch 0x198f5e5d0>), (<DMatch 0x198f5e5f0>, <DMatch 0x198f5e610>), (<DMatch 0x198f5e630>, <DMatch 0x198f5e650>), (<DMatch 0x198f5e670>, <DMatch 0x198f5e690>), (<DMatch 0x198f5e6b0>, <DMatch 0x198f5e6d0>), (<DMatch 0x198f5e6f0>, <DMatch 0x198f5e710>), (<DMatch 0x198f5e730>, <DMatch 0x198f5e750>), (<DMatch 0x198f5e770>, <DMatch 0x198f5e790>), (<DMatch 0x198f5e7b0>, <DMatch 0x198f5e7d0>), (<DMatch 0x198f5e7f0>, <DMatch 0x198f5e810>), (<DMatch 0x198f5e830>, <DMatch 0x198f5e850>), (<DMatch 0x198f5e870>, <DMatch 0x198f5e890>), (<DMatch 0x198f5e8b0>, <DMatch 0x198f5e8d0>), (<DMatch 0x198f5e8f0>, <DMatch 0x198f5e910>), (<DMatch 0x198f5e930>, <DMatch 0x198f5e950>), (<DMatch 0x198f5e970>, <DMatch 0x198f5e990>), (<DMatch 0x198f5e9b0>, <DMatch 0x198f5e9d0>), (<DMatch 0x198f5e9f0>, <DMatch 0x198f5ea10>), (<DMatch 0x198f5ea30>, <DMatch 0x198f5ea50>), (<DMatch 0x198f5ea70>, <DMatch 0x198f5ea90>), (<DMatch 0x198f5eab0>, <DMatch 0x198f5ead0>), (<DMatch 0x198f5eaf0>, <DMatch 0x198f5eb10>), (<DMatch 0x198f5eb30>, <DMatch 0x198f5eb50>), (<DMatch 0x198f5eb70>, <DMatch 0x198f5eb90>), (<DMatch 0x198f5ebb0>, <DMatch 0x198f5ebd0>), (<DMatch 0x198f5ebf0>, <DMatch 0x198f5ec10>), (<DMatch 0x198f5ec30>, <DMatch 0x198f5ec50>), (<DMatch 0x198f5ec70>, <DMatch 0x198f5ec90>), (<DMatch 0x198f5ecb0>, <DMatch 0x198f5ecd0>), (<DMatch 0x198f5ecf0>, <DMatch 0x198f5ed10>), (<DMatch 0x198f5ed30>, <DMatch 0x198f5ed50>), (<DMatch 0x198f5ed70>, <DMatch 0x198f5ed90>), (<DMatch 0x198f5edb0>, <DMatch 0x198f5edd0>), (<DMatch 0x198f5edf0>, <DMatch 0x198f5ee10>), (<DMatch 0x198f5ee30>, <DMatch 0x198f5ee50>), (<DMatch 0x198f5ee70>, <DMatch 0x198f5ee90>), (<DMatch 0x198f5eeb0>, <DMatch 0x198f5eed0>), (<DMatch 0x198f5eef0>, <DMatch 0x198f5ef10>), (<DMatch 0x198f5ef30>, <DMatch 0x198f5ef50>), (<DMatch 0x198f5ef70>, <DMatch 0x198f5ef90>), (<DMatch 0x198f5efb0>, <DMatch 0x198f5efd0>), (<DMatch 0x198f5f030>, <DMatch 0x198f5f050>), (<DMatch 0x198f5f070>, <DMatch 0x198f5f090>), (<DMatch 0x198f5f0b0>, <DMatch 0x198f5f0d0>), (<DMatch 0x198f5f0f0>, <DMatch 0x198f5f110>), (<DMatch 0x198f5f130>, <DMatch 0x198f5f150>), (<DMatch 0x198f5f170>, <DMatch 0x198f5f190>), (<DMatch 0x198f5f1b0>, <DMatch 0x198f5f1d0>), (<DMatch 0x198f5f1f0>, <DMatch 0x198f5f210>), (<DMatch 0x198f5f230>, <DMatch 0x198f5f250>), (<DMatch 0x198f5f270>, <DMatch 0x198f5f290>), (<DMatch 0x198f5f2b0>, <DMatch 0x198f5f2d0>), (<DMatch 0x198f5f2f0>, <DMatch 0x198f5f310>), (<DMatch 0x198f5f330>, <DMatch 0x198f5f350>), (<DMatch 0x198f5f370>, <DMatch 0x198f5f390>), (<DMatch 0x198f5f3b0>, <DMatch 0x198f5f3d0>), (<DMatch 0x198f5f3f0>, <DMatch 0x198f5f410>), (<DMatch 0x198f5f430>, <DMatch 0x198f5f450>), (<DMatch 0x198f5f470>, <DMatch 0x198f5f490>), (<DMatch 0x198f5f4b0>, <DMatch 0x198f5f4d0>), (<DMatch 0x198f5f4f0>, <DMatch 0x198f5f510>), (<DMatch 0x198f5f530>, <DMatch 0x198f5f550>), (<DMatch 0x198f5f570>, <DMatch 0x198f5f590>), (<DMatch 0x198f5f5b0>, <DMatch 0x198f5f5d0>), (<DMatch 0x198f5f5f0>, <DMatch 0x198f5f610>), (<DMatch 0x198f5f630>, <DMatch 0x198f5f650>), (<DMatch 0x198f5f670>, <DMatch 0x198f5f690>), (<DMatch 0x198f5f6b0>, <DMatch 0x198f5f6d0>), (<DMatch 0x198f5f6f0>, <DMatch 0x198f5f710>), (<DMatch 0x198f5f730>, <DMatch 0x198f5f750>), (<DMatch 0x198f5f770>, <DMatch 0x198f5f790>), (<DMatch 0x198f5f7b0>, <DMatch 0x198f5f7d0>), (<DMatch 0x198f5f7f0>, <DMatch 0x198f5f810>), (<DMatch 0x198f5f830>, <DMatch 0x198f5f850>), (<DMatch 0x198f5f870>, <DMatch 0x198f5f890>), (<DMatch 0x198f5f8b0>, <DMatch 0x198f5f8d0>), (<DMatch 0x198f5f8f0>, <DMatch 0x198f5f910>), (<DMatch 0x198f5f930>, <DMatch 0x198f5f950>), (<DMatch 0x198f5f970>, <DMatch 0x198f5f990>), (<DMatch 0x198f5f9b0>, <DMatch 0x198f5f9d0>), (<DMatch 0x198f5f9f0>, <DMatch 0x198f5fa10>), (<DMatch 0x198f5fa30>, <DMatch 0x198f5fa50>), (<DMatch 0x198f5fa70>, <DMatch 0x198f5fa90>), (<DMatch 0x198f5fab0>, <DMatch 0x198f5fad0>), (<DMatch 0x198f5faf0>, <DMatch 0x198f5fb10>), (<DMatch 0x198f5fb30>, <DMatch 0x198f5fb50>), (<DMatch 0x198f5fb70>, <DMatch 0x198f5fb90>), (<DMatch 0x198f5fbb0>, <DMatch 0x198f5fbd0>), (<DMatch 0x198f5fbf0>, <DMatch 0x198f5fc10>), (<DMatch 0x198f5fc30>, <DMatch 0x198f5fc50>), (<DMatch 0x198f5fc70>, <DMatch 0x198f5fc90>), (<DMatch 0x198f5fcb0>, <DMatch 0x198f5fcd0>), (<DMatch 0x198f5fcf0>, <DMatch 0x198f5fd10>), (<DMatch 0x198f5fd30>, <DMatch 0x198f5fd50>), (<DMatch 0x198f5fd70>, <DMatch 0x198f5fd90>), (<DMatch 0x198f5fdb0>, <DMatch 0x198f5fdd0>), (<DMatch 0x198f5fdf0>, <DMatch 0x198f5fe10>), (<DMatch 0x198f5fe30>, <DMatch 0x198f5fe50>), (<DMatch 0x198f5fe70>, <DMatch 0x198f5fe90>), (<DMatch 0x198f5feb0>, <DMatch 0x198f5fed0>), (<DMatch 0x198f5fef0>, <DMatch 0x198f5ff10>), (<DMatch 0x198f5ff30>, <DMatch 0x198f5ff50>), (<DMatch 0x198f5ff70>, <DMatch 0x198f5ff90>), (<DMatch 0x198f5ffb0>, <DMatch 0x198f5ffd0>), (<DMatch 0x198f60030>, <DMatch 0x198f60050>), (<DMatch 0x198f60070>, <DMatch 0x198f60090>), (<DMatch 0x198f600b0>, <DMatch 0x198f600d0>), (<DMatch 0x198f600f0>, <DMatch 0x198f60110>), (<DMatch 0x198f60130>, <DMatch 0x198f60150>), (<DMatch 0x198f60170>, <DMatch 0x198f60190>), (<DMatch 0x198f601b0>, <DMatch 0x198f601d0>), (<DMatch 0x198f601f0>, <DMatch 0x198f60210>), (<DMatch 0x198f60230>, <DMatch 0x198f60250>), (<DMatch 0x198f60270>, <DMatch 0x198f60290>), (<DMatch 0x198f602b0>, <DMatch 0x198f602d0>), (<DMatch 0x198f602f0>, <DMatch 0x198f60310>), (<DMatch 0x198f60330>, <DMatch 0x198f60350>), (<DMatch 0x198f60370>, <DMatch 0x198f60390>), (<DMatch 0x198f603b0>, <DMatch 0x198f603d0>), (<DMatch 0x198f603f0>, <DMatch 0x198f60410>), (<DMatch 0x198f60430>, <DMatch 0x198f60450>), (<DMatch 0x198f60470>, <DMatch 0x198f60490>), (<DMatch 0x198f604b0>, <DMatch 0x198f604d0>), (<DMatch 0x198f604f0>, <DMatch 0x198f60510>), (<DMatch 0x198f60530>, <DMatch 0x198f60550>), (<DMatch 0x198f60570>, <DMatch 0x198f60590>), (<DMatch 0x198f605b0>, <DMatch 0x198f605d0>), (<DMatch 0x198f605f0>, <DMatch 0x198f60610>), (<DMatch 0x198f60630>, <DMatch 0x198f60650>), (<DMatch 0x198f60670>, <DMatch 0x198f60690>), (<DMatch 0x198f606b0>, <DMatch 0x198f606d0>), (<DMatch 0x198f606f0>, <DMatch 0x198f60710>), (<DMatch 0x198f60730>, <DMatch 0x198f60750>), (<DMatch 0x198f60770>, <DMatch 0x198f60790>), (<DMatch 0x198f607b0>, <DMatch 0x198f607d0>), (<DMatch 0x198f607f0>, <DMatch 0x198f60810>), (<DMatch 0x198f60830>, <DMatch 0x198f60850>), (<DMatch 0x198f60870>, <DMatch 0x198f60890>), (<DMatch 0x198f608b0>, <DMatch 0x198f608d0>), (<DMatch 0x198f608f0>, <DMatch 0x198f60910>), (<DMatch 0x198f60930>, <DMatch 0x198f60950>), (<DMatch 0x198f60970>, <DMatch 0x198f60990>), (<DMatch 0x198f609b0>, <DMatch 0x198f609d0>), (<DMatch 0x198f609f0>, <DMatch 0x198f60a10>), (<DMatch 0x198f60a30>, <DMatch 0x198f60a50>), (<DMatch 0x198f60a70>, <DMatch 0x198f60a90>), (<DMatch 0x198f60ab0>, <DMatch 0x198f60ad0>), (<DMatch 0x198f60af0>, <DMatch 0x198f60b10>), (<DMatch 0x198f60b30>, <DMatch 0x198f60b50>), (<DMatch 0x198f60b70>, <DMatch 0x198f60b90>), (<DMatch 0x198f60bb0>, <DMatch 0x198f60bd0>), (<DMatch 0x198f60bf0>, <DMatch 0x198f60c10>), (<DMatch 0x198f60c30>, <DMatch 0x198f60c50>), (<DMatch 0x198f60c70>, <DMatch 0x198f60c90>), (<DMatch 0x198f60cb0>, <DMatch 0x198f60cd0>), (<DMatch 0x198f60cf0>, <DMatch 0x198f60d10>), (<DMatch 0x198f60d30>, <DMatch 0x198f60d50>), (<DMatch 0x198f60d70>, <DMatch 0x198f60d90>), (<DMatch 0x198f60db0>, <DMatch 0x198f60dd0>), (<DMatch 0x198f60df0>, <DMatch 0x198f60e10>), (<DMatch 0x198f60e30>, <DMatch 0x198f60e50>), (<DMatch 0x198f60e70>, <DMatch 0x198f60e90>), (<DMatch 0x198f60eb0>, <DMatch 0x198f60ed0>), (<DMatch 0x198f60ef0>, <DMatch 0x198f60f10>), (<DMatch 0x198f60f30>, <DMatch 0x198f60f50>), (<DMatch 0x198f60f70>, <DMatch 0x198f60f90>), (<DMatch 0x198f60fb0>, <DMatch 0x198f60fd0>), (<DMatch 0x198f61030>, <DMatch 0x198f61050>), (<DMatch 0x198f61070>, <DMatch 0x198f61090>), (<DMatch 0x198f610b0>, <DMatch 0x198f610d0>), (<DMatch 0x198f610f0>, <DMatch 0x198f61110>), (<DMatch 0x198f61130>, <DMatch 0x198f61150>), (<DMatch 0x198f61170>, <DMatch 0x198f61190>), (<DMatch 0x198f611b0>, <DMatch 0x198f611d0>), (<DMatch 0x198f611f0>, <DMatch 0x198f61210>), (<DMatch 0x198f61230>, <DMatch 0x198f61250>), (<DMatch 0x198f61270>, <DMatch 0x198f61290>), (<DMatch 0x198f612b0>, <DMatch 0x198f612d0>), (<DMatch 0x198f612f0>, <DMatch 0x198f61310>), (<DMatch 0x198f61330>, <DMatch 0x198f61350>), (<DMatch 0x198f61370>, <DMatch 0x198f61390>), (<DMatch 0x198f613b0>, <DMatch 0x198f613d0>), (<DMatch 0x198f613f0>, <DMatch 0x198f61410>), (<DMatch 0x198f61430>, <DMatch 0x198f61450>), (<DMatch 0x198f61470>, <DMatch 0x198f61490>), (<DMatch 0x198f614b0>, <DMatch 0x198f614d0>), (<DMatch 0x198f614f0>, <DMatch 0x198f61510>), (<DMatch 0x198f61530>, <DMatch 0x198f61550>), (<DMatch 0x198f61570>, <DMatch 0x198f61590>), (<DMatch 0x198f615b0>, <DMatch 0x198f615d0>), (<DMatch 0x198f615f0>, <DMatch 0x198f61610>), (<DMatch 0x198f61630>, <DMatch 0x198f61650>), (<DMatch 0x198f61670>, <DMatch 0x198f61690>), (<DMatch 0x198f616b0>, <DMatch 0x198f616d0>), (<DMatch 0x198f616f0>, <DMatch 0x198f61710>), (<DMatch 0x198f61730>, <DMatch 0x198f61750>), (<DMatch 0x198f61770>, <DMatch 0x198f61790>), (<DMatch 0x198f617b0>, <DMatch 0x198f617d0>), (<DMatch 0x198f617f0>, <DMatch 0x198f61810>), (<DMatch 0x198f61830>, <DMatch 0x198f61850>), (<DMatch 0x198f61870>, <DMatch 0x198f61890>), (<DMatch 0x198f618b0>, <DMatch 0x198f618d0>), (<DMatch 0x198f618f0>, <DMatch 0x198f61910>), (<DMatch 0x198f61930>, <DMatch 0x198f61950>), (<DMatch 0x198f61970>, <DMatch 0x198f61990>), (<DMatch 0x198f619b0>, <DMatch 0x198f619d0>), (<DMatch 0x198f619f0>, <DMatch 0x198f61a10>), (<DMatch 0x198f61a30>, <DMatch 0x198f61a50>), (<DMatch 0x198f61a70>, <DMatch 0x198f61a90>), (<DMatch 0x198f61ab0>, <DMatch 0x198f61ad0>), (<DMatch 0x198f61af0>, <DMatch 0x198f61b10>), (<DMatch 0x198f61b30>, <DMatch 0x198f61b50>), (<DMatch 0x198f61b70>, <DMatch 0x198f61b90>), (<DMatch 0x198f61bb0>, <DMatch 0x198f61bd0>), (<DMatch 0x198f61bf0>, <DMatch 0x198f61c10>), (<DMatch 0x198f61c30>, <DMatch 0x198f61c50>), (<DMatch 0x198f61c70>, <DMatch 0x198f61c90>), (<DMatch 0x198f61cb0>, <DMatch 0x198f61cd0>), (<DMatch 0x198f61cf0>, <DMatch 0x198f61d10>), (<DMatch 0x198f61d30>, <DMatch 0x198f61d50>), (<DMatch 0x198f61d70>, <DMatch 0x198f61d90>), (<DMatch 0x198f61db0>, <DMatch 0x198f61dd0>), (<DMatch 0x198f61df0>, <DMatch 0x198f61e10>), (<DMatch 0x198f61e30>, <DMatch 0x198f61e50>), (<DMatch 0x198f61e70>, <DMatch 0x198f61e90>), (<DMatch 0x198f61eb0>, <DMatch 0x198f61ed0>), (<DMatch 0x198f61ef0>, <DMatch 0x198f61f10>), (<DMatch 0x198f61f30>, <DMatch 0x198f61f50>), (<DMatch 0x198f61f70>, <DMatch 0x198f61f90>), (<DMatch 0x198f61fb0>, <DMatch 0x198f61fd0>), (<DMatch 0x198f62030>, <DMatch 0x198f62050>), (<DMatch 0x198f62070>, <DMatch 0x198f62090>), (<DMatch 0x198f620b0>, <DMatch 0x198f620d0>), (<DMatch 0x198f620f0>, <DMatch 0x198f62110>), (<DMatch 0x198f62130>, <DMatch 0x198f62150>), (<DMatch 0x198f62170>, <DMatch 0x198f62190>), (<DMatch 0x198f621b0>, <DMatch 0x198f621d0>), (<DMatch 0x198f621f0>, <DMatch 0x198f62210>), (<DMatch 0x198f62230>, <DMatch 0x198f62250>), (<DMatch 0x198f62270>, <DMatch 0x198f62290>), (<DMatch 0x198f622b0>, <DMatch 0x198f622d0>), (<DMatch 0x198f622f0>, <DMatch 0x198f62310>), (<DMatch 0x198f62330>, <DMatch 0x198f62350>), (<DMatch 0x198f62370>, <DMatch 0x198f62390>), (<DMatch 0x198f623b0>, <DMatch 0x198f623d0>), (<DMatch 0x198f623f0>, <DMatch 0x198f62410>), (<DMatch 0x198f62430>, <DMatch 0x198f62450>), (<DMatch 0x198f62470>, <DMatch 0x198f62490>), (<DMatch 0x198f624b0>, <DMatch 0x198f624d0>), (<DMatch 0x198f624f0>, <DMatch 0x198f62510>), (<DMatch 0x198f62530>, <DMatch 0x198f62550>), (<DMatch 0x198f62570>, <DMatch 0x198f62590>), (<DMatch 0x198f625b0>, <DMatch 0x198f625d0>), (<DMatch 0x198f625f0>, <DMatch 0x198f62610>), (<DMatch 0x198f62630>, <DMatch 0x198f62650>), (<DMatch 0x198f62670>, <DMatch 0x198f62690>), (<DMatch 0x198f626b0>, <DMatch 0x198f626d0>), (<DMatch 0x198f626f0>, <DMatch 0x198f62710>), (<DMatch 0x198f62730>, <DMatch 0x198f62750>), (<DMatch 0x198f62770>, <DMatch 0x198f62790>), (<DMatch 0x198f627b0>, <DMatch 0x198f627d0>), (<DMatch 0x198f627f0>, <DMatch 0x198f62810>), (<DMatch 0x198f62830>, <DMatch 0x198f62850>), (<DMatch 0x198f62870>, <DMatch 0x198f62890>), (<DMatch 0x198f628b0>, <DMatch 0x198f628d0>), (<DMatch 0x198f628f0>, <DMatch 0x198f62910>), (<DMatch 0x198f62930>, <DMatch 0x198f62950>), (<DMatch 0x198f62970>, <DMatch 0x198f62990>), (<DMatch 0x198f629b0>, <DMatch 0x198f629d0>), (<DMatch 0x198f629f0>, <DMatch 0x198f62a10>), (<DMatch 0x198f62a30>, <DMatch 0x198f62a50>), (<DMatch 0x198f62a70>, <DMatch 0x198f62a90>), (<DMatch 0x198f62ab0>, <DMatch 0x198f62ad0>), (<DMatch 0x198f62af0>, <DMatch 0x198f62b10>), (<DMatch 0x198f62b30>, <DMatch 0x198f62b50>), (<DMatch 0x198f62b70>, <DMatch 0x198f62b90>), (<DMatch 0x198f62bb0>, <DMatch 0x198f62bd0>), (<DMatch 0x198f62bf0>, <DMatch 0x198f62c10>), (<DMatch 0x198f62c30>, <DMatch 0x198f62c50>), (<DMatch 0x198f62c70>, <DMatch 0x198f62c90>), (<DMatch 0x198f62cb0>, <DMatch 0x198f62cd0>), (<DMatch 0x198f62cf0>, <DMatch 0x198f62d10>), (<DMatch 0x198f62d30>, <DMatch 0x198f62d50>), (<DMatch 0x198f62d70>, <DMatch 0x198f62d90>), (<DMatch 0x198f62db0>, <DMatch 0x198f62dd0>), (<DMatch 0x198f62df0>, <DMatch 0x198f62e10>), (<DMatch 0x198f62e30>, <DMatch 0x198f62e50>), (<DMatch 0x198f62e70>, <DMatch 0x198f62e90>), (<DMatch 0x198f62eb0>, <DMatch 0x198f62ed0>), (<DMatch 0x198f62ef0>, <DMatch 0x198f62f10>), (<DMatch 0x198f62f30>, <DMatch 0x198f62f50>), (<DMatch 0x198f62f70>, <DMatch 0x198f62f90>), (<DMatch 0x198f62fb0>, <DMatch 0x198f62fd0>), (<DMatch 0x198f63030>, <DMatch 0x198f63050>), (<DMatch 0x198f63070>, <DMatch 0x198f63090>), (<DMatch 0x198f630b0>, <DMatch 0x198f630d0>))]\n"
     ]
    },
    {
     "ename": "AttributeError",
     "evalue": "'tuple' object has no attribute 'queryIdx'",
     "output_type": "error",
     "traceback": [
      "\u001b[0;31m---------------------------------------------------------------------------\u001b[0m",
      "\u001b[0;31mAttributeError\u001b[0m                            Traceback (most recent call last)",
      "Input \u001b[0;32mIn [16]\u001b[0m, in \u001b[0;36m<module>\u001b[0;34m\u001b[0m\n\u001b[1;32m      2\u001b[0m image_paths\u001b[38;5;241m=\u001b[39m[\u001b[38;5;124m'\u001b[39m\u001b[38;5;124ms1.jpeg\u001b[39m\u001b[38;5;124m'\u001b[39m,\u001b[38;5;124m'\u001b[39m\u001b[38;5;124ms2.jpeg\u001b[39m\u001b[38;5;124m'\u001b[39m]\n\u001b[1;32m      5\u001b[0m \u001b[38;5;66;03m# stitchy=cv2.Stitcher.create()\u001b[39;00m\n\u001b[1;32m      6\u001b[0m \u001b[38;5;66;03m# (dummy,output)=stitchy.stitch(imgs)\u001b[39;00m\n\u001b[1;32m      7\u001b[0m \n\u001b[0;32m   (...)\u001b[0m\n\u001b[1;32m     11\u001b[0m \u001b[38;5;66;03m# else:\u001b[39;00m\n\u001b[1;32m     12\u001b[0m \u001b[38;5;66;03m# \tprint('Your Panorama is ready!!!')\u001b[39;00m\n\u001b[0;32m---> 14\u001b[0m \u001b[43mpano\u001b[49m\u001b[43m(\u001b[49m\u001b[43mimage_paths\u001b[49m\u001b[43m)\u001b[49m\n",
      "Input \u001b[0;32mIn [15]\u001b[0m, in \u001b[0;36mpano\u001b[0;34m(image_paths)\u001b[0m\n\u001b[1;32m     21\u001b[0m     orbvals[\u001b[38;5;124m\"\u001b[39m\u001b[38;5;124mmatches\u001b[39m\u001b[38;5;124m\"\u001b[39m]\u001b[38;5;241m.\u001b[39mappend(bf\u001b[38;5;241m.\u001b[39mknnMatch(orbvals[\u001b[38;5;124m\"\u001b[39m\u001b[38;5;124mdescrpt\u001b[39m\u001b[38;5;124m\"\u001b[39m][i], orbvals[\u001b[38;5;124m\"\u001b[39m\u001b[38;5;124mdescrpt\u001b[39m\u001b[38;5;124m\"\u001b[39m][i\u001b[38;5;241m+\u001b[39m\u001b[38;5;241m1\u001b[39m],k\u001b[38;5;241m=\u001b[39m\u001b[38;5;241m2\u001b[39m))\n\u001b[1;32m     22\u001b[0m \u001b[38;5;28mprint\u001b[39m(orbvals[\u001b[38;5;124m'\u001b[39m\u001b[38;5;124mmatches\u001b[39m\u001b[38;5;124m'\u001b[39m])\n\u001b[0;32m---> 23\u001b[0m cv2\u001b[38;5;241m.\u001b[39mimshow(\u001b[43mdraw_matches\u001b[49m\u001b[43m(\u001b[49m\u001b[43mimgs\u001b[49m\u001b[43m[\u001b[49m\u001b[38;5;241;43m0\u001b[39;49m\u001b[43m]\u001b[49m\u001b[43m,\u001b[49m\u001b[43morbvals\u001b[49m\u001b[43m[\u001b[49m\u001b[38;5;124;43m\"\u001b[39;49m\u001b[38;5;124;43mkeypts\u001b[39;49m\u001b[38;5;124;43m\"\u001b[39;49m\u001b[43m]\u001b[49m\u001b[43m[\u001b[49m\u001b[38;5;241;43m0\u001b[39;49m\u001b[43m]\u001b[49m\u001b[43m,\u001b[49m\u001b[43mimgs\u001b[49m\u001b[43m[\u001b[49m\u001b[38;5;241;43m1\u001b[39;49m\u001b[43m]\u001b[49m\u001b[43m,\u001b[49m\u001b[43morbvals\u001b[49m\u001b[43m[\u001b[49m\u001b[38;5;124;43m\"\u001b[39;49m\u001b[38;5;124;43mkeypts\u001b[39;49m\u001b[38;5;124;43m\"\u001b[39;49m\u001b[43m]\u001b[49m\u001b[43m[\u001b[49m\u001b[38;5;241;43m1\u001b[39;49m\u001b[43m]\u001b[49m\u001b[43m,\u001b[49m\u001b[43morbvals\u001b[49m\u001b[43m[\u001b[49m\u001b[38;5;124;43m\"\u001b[39;49m\u001b[38;5;124;43mmatches\u001b[39;49m\u001b[38;5;124;43m\"\u001b[39;49m\u001b[43m]\u001b[49m\u001b[43m[\u001b[49m\u001b[38;5;241;43m0\u001b[39;49m\u001b[43m]\u001b[49m\u001b[43m)\u001b[49m)\n",
      "Input \u001b[0;32mIn [13]\u001b[0m, in \u001b[0;36mdraw_matches\u001b[0;34m(img1, keypoints1, img2, keypoints2, matches)\u001b[0m\n\u001b[1;32m     10\u001b[0m \u001b[38;5;66;03m# Go over all of the matching points and extract them\u001b[39;00m\n\u001b[1;32m     11\u001b[0m \u001b[38;5;28;01mfor\u001b[39;00m match \u001b[38;5;129;01min\u001b[39;00m matches:\n\u001b[0;32m---> 12\u001b[0m   img1_idx \u001b[38;5;241m=\u001b[39m \u001b[43mmatch\u001b[49m\u001b[38;5;241;43m.\u001b[39;49m\u001b[43mqueryIdx\u001b[49m\n\u001b[1;32m     13\u001b[0m   img2_idx \u001b[38;5;241m=\u001b[39m match\u001b[38;5;241m.\u001b[39mtrainIdx\n\u001b[1;32m     14\u001b[0m   (x1, y1) \u001b[38;5;241m=\u001b[39m keypoints1[img1_idx]\u001b[38;5;241m.\u001b[39mpt\n",
      "\u001b[0;31mAttributeError\u001b[0m: 'tuple' object has no attribute 'queryIdx'"
     ]
    }
   ],
   "source": [
    "\n",
    "# image_paths=['s1.jpeg','s2.jpeg','s3.jpeg','s4.jpeg','s5.jpeg']\n",
    "image_paths=['s1.jpeg','s2.jpeg']\n",
    "\n",
    "\n",
    "# stitchy=cv2.Stitcher.create()\n",
    "# (dummy,output)=stitchy.stitch(imgs)\n",
    "\n",
    "# if dummy != cv2.STITCHER_OK:\n",
    "\n",
    "# \tprint(\"stitching ain't successful\")\n",
    "# else:\n",
    "# \tprint('Your Panorama is ready!!!')\n",
    "\n",
    "pano(image_paths)\n",
    "\n",
    "\n",
    "# final output\n",
    "# cv2.imshow('final result',output)\n",
    "\n",
    "# cv2.waitKey(0)\n"
   ]
  },
  {
   "cell_type": "code",
   "execution_count": null,
   "metadata": {},
   "outputs": [],
   "source": []
  }
 ],
 "metadata": {
  "interpreter": {
   "hash": "f32c342d9ea7f5036db09204dae45f5252a65bc883a367b7eae2cb473c9503d1"
  },
  "kernelspec": {
   "display_name": "Python 3.6.13 64-bit ('afr': conda)",
   "language": "python",
   "name": "python3"
  },
  "language_info": {
   "codemirror_mode": {
    "name": "ipython",
    "version": 3
   },
   "file_extension": ".py",
   "mimetype": "text/x-python",
   "name": "python",
   "nbconvert_exporter": "python",
   "pygments_lexer": "ipython3",
   "version": "3.9.7"
  },
  "orig_nbformat": 4
 },
 "nbformat": 4,
 "nbformat_minor": 2
}
