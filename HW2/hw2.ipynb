{
 "cells": [
  {
   "cell_type": "code",
   "execution_count": 1,
   "metadata": {},
   "outputs": [],
   "source": [
    "import os\n",
    "import cv2\n",
    "import matplotlib\n",
    "matplotlib.use('TkAgg')\n",
    "import matplotlib.pyplot as plt\n",
    "import numpy as np"
   ]
  },
  {
   "cell_type": "code",
   "execution_count": 2,
   "metadata": {},
   "outputs": [],
   "source": [
    "def pointLoad(imgpath,pts):\n",
    "    if os.path.exists(imgpath):\n",
    "        img = cv2.imread(imgpath)\n",
    "        plt.imshow(img)\n",
    "        ptMatrix = plt.ginput(pts)\n",
    "        # plt.close()\n",
    "        return img, np.array(ptMatrix).astype(int)\n",
    "        \n",
    "\n",
    "    else:\n",
    "        print(\"Invalid image path\")\n",
    "        return"
   ]
  },
  {
   "cell_type": "code",
   "execution_count": 16,
   "metadata": {},
   "outputs": [
    {
     "name": "stderr",
     "output_type": "stream",
     "text": [
      "Exception in Tkinter callback\n",
      "Traceback (most recent call last):\n",
      "  File \"/home/jordan/anaconda3/lib/python3.9/tkinter/__init__.py\", line 1892, in __call__\n",
      "    return self.func(*args)\n",
      "  File \"/home/jordan/anaconda3/lib/python3.9/tkinter/__init__.py\", line 814, in callit\n",
      "    func(*args)\n",
      "  File \"/home/jordan/anaconda3/lib/python3.9/site-packages/matplotlib/backends/_backend_tk.py\", line 476, in delayed_destroy\n",
      "    self.window.destroy()\n",
      "  File \"/home/jordan/anaconda3/lib/python3.9/tkinter/__init__.py\", line 2311, in destroy\n",
      "    for c in list(self.children.values()): c.destroy()\n",
      "  File \"/home/jordan/anaconda3/lib/python3.9/tkinter/__init__.py\", line 2583, in destroy\n",
      "    Misc.destroy(self)\n",
      "  File \"/home/jordan/anaconda3/lib/python3.9/tkinter/__init__.py\", line 640, in destroy\n",
      "    self.tk.deletecommand(name)\n",
      "_tkinter.TclError: can't delete Tcl command\n"
     ]
    }
   ],
   "source": [
    "img1, img1pts = pointLoad(\"image1.jpg\",4)\n",
    "\n",
    "img2, img2pts = pointLoad(\"image2.jpg\",4)\n",
    "\n"
   ]
  },
  {
   "cell_type": "code",
   "execution_count": 4,
   "metadata": {},
   "outputs": [
    {
     "name": "stdout",
     "output_type": "stream",
     "text": [
      "[[ 520  496]\n",
      " [ 929  463]\n",
      " [ 966 1146]\n",
      " [ 541 1097]]\n"
     ]
    }
   ],
   "source": [
    "print((img1pts))\n",
    "\n"
   ]
  },
  {
   "cell_type": "code",
   "execution_count": 20,
   "metadata": {},
   "outputs": [],
   "source": [
    "h,status = cv2.findHomography(img2pts,img1pts,0)\n",
    "im_out = cv2.warpPerspective(img2,h,(img1.shape[1],img1.shape[0]))\n",
    "mask = np.zeros(img1.shape[:2], dtype=\"uint8\")\n",
    "cv2.fillConvexPoly(mask, np.int32([img1pts]),color=255)\n",
    "cv2.fillConvexPoly(img1, np.int32([img1pts]),color=0)\n",
    "masked =cv2.bitwise_and(im_out,im_out,mask=mask)\n",
    "img3 = cv2.add(img1,masked)\n",
    "plt.imshow(img3)\n",
    "\n",
    "plt.show()"
   ]
  },
  {
   "cell_type": "markdown",
   "metadata": {},
   "source": []
  }
 ],
 "metadata": {
  "interpreter": {
   "hash": "f32c342d9ea7f5036db09204dae45f5252a65bc883a367b7eae2cb473c9503d1"
  },
  "kernelspec": {
   "display_name": "Python 3.6.13 64-bit ('afr': conda)",
   "language": "python",
   "name": "python3"
  },
  "language_info": {
   "codemirror_mode": {
    "name": "ipython",
    "version": 3
   },
   "file_extension": ".py",
   "mimetype": "text/x-python",
   "name": "python",
   "nbconvert_exporter": "python",
   "pygments_lexer": "ipython3",
   "version": "3.9.7"
  },
  "orig_nbformat": 4
 },
 "nbformat": 4,
 "nbformat_minor": 2
}
