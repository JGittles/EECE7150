{
 "cells": [
  {
   "cell_type": "code",
   "execution_count": 62,
   "id": "d2074bc6-3098-40d2-8715-1879fc61d98a",
   "metadata": {},
   "outputs": [],
   "source": [
    "import numpy as np\n",
    "from collections import Counter\n",
    "import matplotlib.pyplot as plt"
   ]
  },
  {
   "cell_type": "code",
   "execution_count": 63,
   "id": "cdf6ce10-4f95-45d4-8c65-9602337dd50b",
   "metadata": {},
   "outputs": [],
   "source": [
    "def weather_sim(n,today = 0,repeat = 0, display = True):\n",
    "#     weights of tomorrow's weather from today's weather\n",
    "    if today == False:\n",
    "        today = np.random.choice([\"sunny\", \"cloudy\", \"rainy\"]) # originally had this as default argument but numpy seems to get stuck when doing that\n",
    "    choices = {\"sunny\":[.8, .2, 0], \"cloudy\":[.4, .4, .2], \"rainy\":[.2, .6, .2]}\n",
    "    count = [today]\n",
    "    for i in range(n-1):\n",
    "        tomorrow =  np.random.choice(list(choices.keys()),p=choices[today])\n",
    "        count.append(tomorrow)\n",
    "        if not(repeat):\n",
    "            today = tomorrow\n",
    "    return normalized_count(count,display), count"
   ]
  },
  {
   "cell_type": "code",
   "execution_count": 64,
   "id": "0e1af885-d973-486f-8b08-565961cdaa6b",
   "metadata": {},
   "outputs": [],
   "source": [
    "def normalized_count(val,display):\n",
    "    normCount = Counter(val)\n",
    "    total = sum(normCount.values())\n",
    "    for key in normCount:\n",
    "        normCount[key] /= total\n",
    "    if display:\n",
    "        print(\"first day is: \" + val[0])\n",
    "        print(\"total runs: \" + str(total))\n",
    "        print(\"sunny: \" +str(normCount['sunny']))\n",
    "        print(\"cloudy: \" +str(normCount['cloudy']))\n",
    "        print(\"rainy: \" +str(normCount['rainy']))\n",
    "        print(\"~~~~~\")\n",
    "    return normCount"
   ]
  },
  {
   "cell_type": "code",
   "execution_count": 65,
   "id": "d7629607-798a-478c-a4af-2d42ada8819e",
   "metadata": {
    "tags": []
   },
   "outputs": [
    {
     "name": "stdout",
     "output_type": "stream",
     "text": [
      "first day is: rainy\n",
      "total runs: 10\n",
      "sunny: 0.8\n",
      "cloudy: 0.1\n",
      "rainy: 0.1\n",
      "~~~~~\n",
      "first day is: cloudy\n",
      "total runs: 100\n",
      "sunny: 0.75\n",
      "cloudy: 0.22\n",
      "rainy: 0.03\n",
      "~~~~~\n",
      "first day is: sunny\n",
      "total runs: 1000\n",
      "sunny: 0.641\n",
      "cloudy: 0.291\n",
      "rainy: 0.068\n",
      "~~~~~\n",
      "first day is: sunny\n",
      "total runs: 10000\n",
      "sunny: 0.6517\n",
      "cloudy: 0.2791\n",
      "rainy: 0.0692\n",
      "~~~~~\n",
      "~\n"
     ]
    }
   ],
   "source": [
    "weather_sim(10,repeat = 0)\n",
    "weather_sim(100,repeat = 0)\n",
    "weather_sim(1000,repeat = 0)\n",
    "weather_sim(10000,repeat = 0)\n",
    "print(\"~\")\n",
    "\n"
   ]
  },
  {
   "cell_type": "code",
   "execution_count": 66,
   "id": "8be8d70e-c0dc-4f30-9ad3-c3e01a4973fd",
   "metadata": {},
   "outputs": [],
   "source": [
    "weatherData = {\"sunny\":[], \"cloudy\":[], \"rainy\":[]}\n",
    "window = {\"sunny\":[], \"cloudy\":[], \"rainy\":[]}\n",
    "[norm,weather] = weather_sim(10000, display = False)\n",
    "for i in range(0,10000,1):\n",
    "    window = normalized_count(weather[0:i],display = False)\n",
    "    for key in weatherData.keys():\n",
    "        weatherData[key].append(window[key])\n",
    "    \n",
    "    "
   ]
  },
  {
   "cell_type": "code",
   "execution_count": 67,
   "id": "c5202ecd-5466-4f1d-b804-acc41f749d17",
   "metadata": {},
   "outputs": [],
   "source": [
    "stationary = {\"sunny\":9/14,\"cloudy\":2/7,\"rainy\":1/14}"
   ]
  },
  {
   "cell_type": "code",
   "execution_count": 68,
   "id": "65b35836-15f0-4f3e-9de2-179f578b0705",
   "metadata": {},
   "outputs": [
    {
     "data": {
      "image/png": "[encoded data removed]",
      "text/plain": [
       "<Figure size 432x288 with 1 Axes>"
      ]
     },
     "metadata": {
      "needs_background": "light"
     },
     "output_type": "display_data"
    }
   ],
   "source": [
    "for key in weatherData.keys():\n",
    "    plt.plot(weatherData[key])\n",
    "for key in stationary.keys():\n",
    "    plt.axhline(stationary[key])\n",
    "plt.legend(weatherData.keys())\n",
    "plt.show()"
   ]
  },
  {
   "cell_type": "code",
   "execution_count": 69,
   "id": "9efa74c2-454a-4235-a8a7-e11a3a0249d6",
   "metadata": {},
   "outputs": [
    {
     "data": {
      "image/png": "[encoded data removed]",
      "text/plain": [
       "<Figure size 432x288 with 1 Axes>"
      ]
     },
     "metadata": {
      "needs_background": "light"
     },
     "output_type": "display_data"
    }
   ],
   "source": [
    "for key in weatherData.keys():\n",
    "    plt.plot(abs(np.array(weatherData[key])-stationary[key]))\n",
    "plt.legend(weatherData.keys())\n",
    "plt.show()"
   ]
  },
  {
   "cell_type": "code",
   "execution_count": null,
   "id": "98ee358d-a1ed-407f-8603-da163c155d60",
   "metadata": {},
   "outputs": [],
   "source": []
  }
 ],
 "metadata": {
  "kernelspec": {
   "display_name": "Python 3",
   "language": "python",
   "name": "python3"
  },
  "language_info": {
   "codemirror_mode": {
    "name": "ipython",
    "version": 3
   },
   "file_extension": ".py",
   "mimetype": "text/x-python",
   "name": "python",
   "nbconvert_exporter": "python",
   "pygments_lexer": "ipython3",
   "version": "3.6.9"
  }
 },
 "nbformat": 4,
 "nbformat_minor": 5
}
